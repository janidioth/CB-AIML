{
 "cells": [
  {
   "cell_type": "markdown",
   "id": "5f32fa74-36a3-4333-956f-4966f258b09d",
   "metadata": {},
   "source": [
    "# CB AIML - Machine Learning\n",
    "# Mercedes-Benz Greener Manufacturing\n",
    "\n",
    "## DESCRIPTION\n",
    "Reduce the time a Mercedes-Benz spends on the test bench.\n",
    "\n",
    "## Problem Statement Scenario:\n",
    "Since the first automobile, the Benz Patent Motor Car in 1886, Mercedes-Benz has stood for important automotive innovations. These include the passenger safety cell with a crumple zone, the airbag, and intelligent assistance systems. Mercedes-Benz applies for nearly 2000 patents per year, making the brand the European leader among premium carmakers. Mercedes-Benz is the leader in the premium car industry. With a huge selection of features and options, customers can choose the customized Mercedes-Benz of their dreams.\n",
    "\n",
    "To ensure the safety and reliability of every unique car configuration before they hit the road, the company’s engineers have developed a robust testing system. As one of the world’s biggest manufacturers of premium cars, safety and efficiency are paramount on Mercedes-Benz’s production lines. However, optimizing the speed of their testing system for many possible feature combinations is complex and time-consuming without a powerful algorithmic approach.\n",
    "\n",
    "You are required to reduce the time that cars spend on the test bench. Others will work with a dataset representing different permutations of features in a Mercedes-Benz car to predict the time it takes to pass testing. Optimal algorithms will contribute to faster testing, resulting in lower carbon dioxide emissions without reducing Mercedes-Benz’s standards.\n",
    "\n",
    "Following actions should be performed:\n",
    "- If for any column(s), the variance is equal to zero, then you need to remove those variable(s).\n",
    "- Check for null and unique values for test and train sets.\n",
    "- Apply label encoder.\n",
    "- Perform dimensionality reduction.\n",
    "- Predict your test_df values using XGBoost."
   ]
  },
  {
   "cell_type": "markdown",
   "id": "da84a5bf-c244-48cf-813c-20c3aa27b194",
   "metadata": {},
   "source": [
    "## Import Libraries"
   ]
  },
  {
   "cell_type": "code",
   "execution_count": 1,
   "id": "f8a5dd31-a6b4-4a28-9dc0-6e8d7040ad46",
   "metadata": {},
   "outputs": [],
   "source": [
    "# import libraries\n",
    "import pandas as pd\n",
    "import numpy as np\n",
    "import matplotlib.pyplot as plt\n",
    "import seaborn as sns\n",
    "\n",
    "# To view plot in Notebook\n",
    "%matplotlib inline\n",
    "\n",
    "# Suppress warnings\n",
    "import warnings\n",
    "warnings.filterwarnings('ignore')"
   ]
  },
  {
   "cell_type": "markdown",
   "id": "6607992f-ca6a-4381-9008-ace32b000ce5",
   "metadata": {},
   "source": [
    "## Load Data\n",
    "- Load the train.csv and test.csv files using `pd.read_csv()` to two separate DataFrame\n",
    "- Look at the first 5 rows of the data using `df.head()`"
   ]
  },
  {
   "cell_type": "code",
   "execution_count": 2,
   "id": "00a00387-bd94-4a9c-b5a2-1478b7b28b94",
   "metadata": {},
   "outputs": [
    {
     "data": {
      "text/html": [
       "<div>\n",
       "<style scoped>\n",
       "    .dataframe tbody tr th:only-of-type {\n",
       "        vertical-align: middle;\n",
       "    }\n",
       "\n",
       "    .dataframe tbody tr th {\n",
       "        vertical-align: top;\n",
       "    }\n",
       "\n",
       "    .dataframe thead th {\n",
       "        text-align: right;\n",
       "    }\n",
       "</style>\n",
       "<table border=\"1\" class=\"dataframe\">\n",
       "  <thead>\n",
       "    <tr style=\"text-align: right;\">\n",
       "      <th></th>\n",
       "      <th>ID</th>\n",
       "      <th>y</th>\n",
       "      <th>X0</th>\n",
       "      <th>X1</th>\n",
       "      <th>X2</th>\n",
       "      <th>X3</th>\n",
       "      <th>X4</th>\n",
       "      <th>X5</th>\n",
       "      <th>X6</th>\n",
       "      <th>X8</th>\n",
       "      <th>...</th>\n",
       "      <th>X375</th>\n",
       "      <th>X376</th>\n",
       "      <th>X377</th>\n",
       "      <th>X378</th>\n",
       "      <th>X379</th>\n",
       "      <th>X380</th>\n",
       "      <th>X382</th>\n",
       "      <th>X383</th>\n",
       "      <th>X384</th>\n",
       "      <th>X385</th>\n",
       "    </tr>\n",
       "  </thead>\n",
       "  <tbody>\n",
       "    <tr>\n",
       "      <th>0</th>\n",
       "      <td>0</td>\n",
       "      <td>130.81</td>\n",
       "      <td>k</td>\n",
       "      <td>v</td>\n",
       "      <td>at</td>\n",
       "      <td>a</td>\n",
       "      <td>d</td>\n",
       "      <td>u</td>\n",
       "      <td>j</td>\n",
       "      <td>o</td>\n",
       "      <td>...</td>\n",
       "      <td>0</td>\n",
       "      <td>0</td>\n",
       "      <td>1</td>\n",
       "      <td>0</td>\n",
       "      <td>0</td>\n",
       "      <td>0</td>\n",
       "      <td>0</td>\n",
       "      <td>0</td>\n",
       "      <td>0</td>\n",
       "      <td>0</td>\n",
       "    </tr>\n",
       "    <tr>\n",
       "      <th>1</th>\n",
       "      <td>6</td>\n",
       "      <td>88.53</td>\n",
       "      <td>k</td>\n",
       "      <td>t</td>\n",
       "      <td>av</td>\n",
       "      <td>e</td>\n",
       "      <td>d</td>\n",
       "      <td>y</td>\n",
       "      <td>l</td>\n",
       "      <td>o</td>\n",
       "      <td>...</td>\n",
       "      <td>1</td>\n",
       "      <td>0</td>\n",
       "      <td>0</td>\n",
       "      <td>0</td>\n",
       "      <td>0</td>\n",
       "      <td>0</td>\n",
       "      <td>0</td>\n",
       "      <td>0</td>\n",
       "      <td>0</td>\n",
       "      <td>0</td>\n",
       "    </tr>\n",
       "  </tbody>\n",
       "</table>\n",
       "<p>2 rows × 378 columns</p>\n",
       "</div>"
      ],
      "text/plain": [
       "   ID       y X0 X1  X2 X3 X4 X5 X6 X8  ...  X375  X376  X377  X378  X379  \\\n",
       "0   0  130.81  k  v  at  a  d  u  j  o  ...     0     0     1     0     0   \n",
       "1   6   88.53  k  t  av  e  d  y  l  o  ...     1     0     0     0     0   \n",
       "\n",
       "   X380  X382  X383  X384  X385  \n",
       "0     0     0     0     0     0  \n",
       "1     0     0     0     0     0  \n",
       "\n",
       "[2 rows x 378 columns]"
      ]
     },
     "execution_count": 2,
     "metadata": {},
     "output_type": "execute_result"
    }
   ],
   "source": [
    "# Load data file to DataFrame for both train and test data\n",
    "train = pd.read_csv('train.csv')\n",
    "test = pd.read_csv('test.csv')\n",
    "\n",
    "# Show first 2 rows of data in train DataFrame\n",
    "train.head(2)"
   ]
  },
  {
   "cell_type": "code",
   "execution_count": 3,
   "id": "e4ceb996-d5ad-4633-b611-31d437ebf7df",
   "metadata": {},
   "outputs": [
    {
     "data": {
      "text/html": [
       "<div>\n",
       "<style scoped>\n",
       "    .dataframe tbody tr th:only-of-type {\n",
       "        vertical-align: middle;\n",
       "    }\n",
       "\n",
       "    .dataframe tbody tr th {\n",
       "        vertical-align: top;\n",
       "    }\n",
       "\n",
       "    .dataframe thead th {\n",
       "        text-align: right;\n",
       "    }\n",
       "</style>\n",
       "<table border=\"1\" class=\"dataframe\">\n",
       "  <thead>\n",
       "    <tr style=\"text-align: right;\">\n",
       "      <th></th>\n",
       "      <th>ID</th>\n",
       "      <th>X0</th>\n",
       "      <th>X1</th>\n",
       "      <th>X2</th>\n",
       "      <th>X3</th>\n",
       "      <th>X4</th>\n",
       "      <th>X5</th>\n",
       "      <th>X6</th>\n",
       "      <th>X8</th>\n",
       "      <th>X10</th>\n",
       "      <th>...</th>\n",
       "      <th>X375</th>\n",
       "      <th>X376</th>\n",
       "      <th>X377</th>\n",
       "      <th>X378</th>\n",
       "      <th>X379</th>\n",
       "      <th>X380</th>\n",
       "      <th>X382</th>\n",
       "      <th>X383</th>\n",
       "      <th>X384</th>\n",
       "      <th>X385</th>\n",
       "    </tr>\n",
       "  </thead>\n",
       "  <tbody>\n",
       "    <tr>\n",
       "      <th>0</th>\n",
       "      <td>1</td>\n",
       "      <td>az</td>\n",
       "      <td>v</td>\n",
       "      <td>n</td>\n",
       "      <td>f</td>\n",
       "      <td>d</td>\n",
       "      <td>t</td>\n",
       "      <td>a</td>\n",
       "      <td>w</td>\n",
       "      <td>0</td>\n",
       "      <td>...</td>\n",
       "      <td>0</td>\n",
       "      <td>0</td>\n",
       "      <td>0</td>\n",
       "      <td>1</td>\n",
       "      <td>0</td>\n",
       "      <td>0</td>\n",
       "      <td>0</td>\n",
       "      <td>0</td>\n",
       "      <td>0</td>\n",
       "      <td>0</td>\n",
       "    </tr>\n",
       "    <tr>\n",
       "      <th>1</th>\n",
       "      <td>2</td>\n",
       "      <td>t</td>\n",
       "      <td>b</td>\n",
       "      <td>ai</td>\n",
       "      <td>a</td>\n",
       "      <td>d</td>\n",
       "      <td>b</td>\n",
       "      <td>g</td>\n",
       "      <td>y</td>\n",
       "      <td>0</td>\n",
       "      <td>...</td>\n",
       "      <td>0</td>\n",
       "      <td>0</td>\n",
       "      <td>1</td>\n",
       "      <td>0</td>\n",
       "      <td>0</td>\n",
       "      <td>0</td>\n",
       "      <td>0</td>\n",
       "      <td>0</td>\n",
       "      <td>0</td>\n",
       "      <td>0</td>\n",
       "    </tr>\n",
       "  </tbody>\n",
       "</table>\n",
       "<p>2 rows × 377 columns</p>\n",
       "</div>"
      ],
      "text/plain": [
       "   ID  X0 X1  X2 X3 X4 X5 X6 X8  X10  ...  X375  X376  X377  X378  X379  X380  \\\n",
       "0   1  az  v   n  f  d  t  a  w    0  ...     0     0     0     1     0     0   \n",
       "1   2   t  b  ai  a  d  b  g  y    0  ...     0     0     1     0     0     0   \n",
       "\n",
       "   X382  X383  X384  X385  \n",
       "0     0     0     0     0  \n",
       "1     0     0     0     0  \n",
       "\n",
       "[2 rows x 377 columns]"
      ]
     },
     "execution_count": 3,
     "metadata": {},
     "output_type": "execute_result"
    }
   ],
   "source": [
    "# Show first 2 rows of data in test DataFrame\n",
    "test.head(2)"
   ]
  },
  {
   "cell_type": "markdown",
   "id": "a5a5dfc6-5eec-4adc-b539-320469595e5f",
   "metadata": {},
   "source": [
    "## Explore the Data\n",
    "Check the size and datatype of the train and test datasets."
   ]
  },
  {
   "cell_type": "code",
   "execution_count": 4,
   "id": "75f50019-85d1-4fec-8d6c-1bddb9dce18a",
   "metadata": {},
   "outputs": [
    {
     "name": "stdout",
     "output_type": "stream",
     "text": [
      "Dimension of train dataset: (4209, 378)\n",
      "Dimension of test dataset: (4209, 377)\n"
     ]
    }
   ],
   "source": [
    "print('Dimension of train dataset:', train.shape)\n",
    "print('Dimension of test dataset:', test.shape)"
   ]
  },
  {
   "cell_type": "code",
   "execution_count": 5,
   "id": "05d1a28c-f177-4179-8c64-8db9d5185df0",
   "metadata": {},
   "outputs": [
    {
     "name": "stdout",
     "output_type": "stream",
     "text": [
      "<class 'pandas.core.frame.DataFrame'>\n",
      "RangeIndex: 4209 entries, 0 to 4208\n",
      "Columns: 378 entries, ID to X385\n",
      "dtypes: float64(1), int64(369), object(8)\n",
      "memory usage: 13.8 MB\n",
      "None\n",
      "\n",
      "<class 'pandas.core.frame.DataFrame'>\n",
      "RangeIndex: 4209 entries, 0 to 4208\n",
      "Columns: 377 entries, ID to X385\n",
      "dtypes: int64(369), object(8)\n",
      "memory usage: 13.7 MB\n",
      "None\n"
     ]
    }
   ],
   "source": [
    "# Use df.info() to look at the dtype for the data in the DataFrame\n",
    "print(train.info(memory_usage='deep'))\n",
    "print()\n",
    "print(test.info(memory_usage='deep'))"
   ]
  },
  {
   "cell_type": "code",
   "execution_count": 6,
   "id": "30085e79-2d0f-4106-808d-f0ce8cef1792",
   "metadata": {},
   "outputs": [
    {
     "name": "stdout",
     "output_type": "stream",
     "text": [
      "Categorical features [train] column names: Index(['X0', 'X1', 'X2', 'X3', 'X4', 'X5', 'X6', 'X8'], dtype='object')\n",
      "Categorical features [test] column names: Index(['X0', 'X1', 'X2', 'X3', 'X4', 'X5', 'X6', 'X8'], dtype='object')\n"
     ]
    }
   ],
   "source": [
    "# Check for categorical features\n",
    "print('Categorical features [train] column names:', train.select_dtypes(exclude=np.number).columns)\n",
    "print('Categorical features [test] column names:', test.select_dtypes(exclude=np.number).columns)"
   ]
  },
  {
   "cell_type": "markdown",
   "id": "9065590b-853c-4799-9da4-a878f9d80337",
   "metadata": {},
   "source": [
    "***\n",
    "##### The train dataset has\n",
    "- 378 features (8 categorical, 369 (int64) and 1 (float64) numerical)\n",
    "- and 4209 observations\n",
    "- The target variable is [`y`] and is of float64 dtypes. This is the time spend on the test bench.\n",
    "- The input variables range from [`X0`] to [`X385`]\n",
    "- [`X0`], [`X1`], [`X2`], [`X3`], [`X4`], [`X5`], [`X6`], [`X8`] are the 8 categorical features\n",
    "- [`X10`] to [`X385`] are the 369 numerical features of int64 dtypes\n",
    "- Looks like the 368 numerical features in [`X10`] to [`X385`] might only have 0 and 1 values\n",
    "\n",
    "##### The test dataset has\n",
    "- 377 features (8 categorical, 369 numerical)\n",
    "- and 4209 observations\n",
    "- There is no target variable in this dataset\n",
    "- The input variables range from [`X0`] to [`X385`]\n",
    "- [`X0`], [`X1`], [`X2`], [`X3`], [`X4`], [`X5`], [`X6`], [`X8`] are the 8 categorical features\n",
    "- [`X10`] to [`X385`] are the 369 numerical features of int64 dtypes\n",
    "- Looks like the 368 numerical features in [`X10`] to [`X385`] might only have 0 and 1 values\n",
    "***\n",
    "## EDA (Exploratory Data Analysis)\n",
    "### Distribution of the target variable\n",
    "- The requirement for this project is to reduce the time that cars spend on the test bench\n",
    "- Let's first take a look at the distribution of the target variable (the time spend on the test bench)."
   ]
  },
  {
   "cell_type": "code",
   "execution_count": 7,
   "id": "99fa2ca9-54c3-4829-aa47-a8998cf99467",
   "metadata": {},
   "outputs": [
    {
     "data": {
      "image/png": "[encoded data removed]",
      "text/plain": [
       "<Figure size 1008x288 with 2 Axes>"
      ]
     },
     "metadata": {
      "needs_background": "light"
     },
     "output_type": "display_data"
    }
   ],
   "source": [
    "# Visualize the distribution of the target variable, y\n",
    "fig, axes = plt.subplots(1, 2, figsize=(14, 4))\n",
    "\n",
    "# Show the distribution using boxplot and histplot\n",
    "sns.boxplot(x=train['y'], ax=axes[0])\n",
    "#sns.distplot(train['y'], hist=True, kde=True, ax=axes[1])\n",
    "sns.histplot(train['y'], ax=axes[1])\n",
    "\n",
    "plt.show()"
   ]
  },
  {
   "cell_type": "code",
   "execution_count": 8,
   "id": "8827e812-094c-4a28-ab0d-cfdf558b3c40",
   "metadata": {},
   "outputs": [
    {
     "data": {
      "text/plain": [
       "count    4209.000000\n",
       "mean      100.669318\n",
       "std        12.679381\n",
       "min        72.110000\n",
       "25%        90.820000\n",
       "50%        99.150000\n",
       "75%       109.010000\n",
       "max       265.320000\n",
       "Name: y, dtype: float64"
      ]
     },
     "execution_count": 8,
     "metadata": {},
     "output_type": "execute_result"
    }
   ],
   "source": [
    "# Show the basic statistical details of the dataset’s distribution\n",
    "train['y'].describe()"
   ]
  },
  {
   "cell_type": "markdown",
   "id": "c39d13ca-7947-487a-95f6-fa726aa98828",
   "metadata": {},
   "source": [
    "---\n",
    "- The target variable (time a Mercedes-Benz spends on the test bench) shows an almost normal distribution from approximately 72 seconds to 140 seconds.\n",
    "- However, from the statistical details, the distribution is skewed left with the mean closer to the 75 percentile.\n",
    "- The boxplot above shows that there are outliers for the target variable from approximately 140 seconds to 265 seconds.\n",
    "- To reduce the time a Mercedes-Benz spends on the test bench, we should remove the outliers from the dataset when training the model.\n",
    "---\n",
    "### Remove outliers from the target variable, y\n",
    "- Removing the outliers from the target variable is equivalent to removing noises from the dataset when training the model.\n",
    "- Since only the train dataset has the y target variable and new data used for prediction would not have this variable, this process of removing the outlier will not be build into the pipeline.\n",
    "- Use `feature_engine.outliers.OutlierTrimmer` to trim (remove) the outliers from the target variale, y."
   ]
  },
  {
   "cell_type": "code",
   "execution_count": 9,
   "id": "48469c54-4fb6-4e66-943e-5cd6133bad03",
   "metadata": {},
   "outputs": [
    {
     "name": "stdout",
     "output_type": "stream",
     "text": [
      "Dimension of ['train'] dataset before trimming: (4209, 378)\n",
      "Dimension of ['train'] dataset after trimming: (4205, 378)\n"
     ]
    }
   ],
   "source": [
    "# OutlierTrimmer() trims the maximum and / or minimum values of a variable\n",
    "from feature_engine.outliers import OutlierTrimmer\n",
    "\n",
    "# Use IQR to cap the outliers with both the lower and upper IQR\n",
    "trimmer = OutlierTrimmer(capping_method='iqr', variables=['y'], tail='both')\n",
    "trimmer.fit(train)\n",
    "\n",
    "print(\"Dimension of ['train'] dataset before trimming:\", train.shape)\n",
    "train = trimmer.transform(train)\n",
    "\n",
    "print(\"Dimension of ['train'] dataset after trimming:\", train.shape)"
   ]
  },
  {
   "cell_type": "markdown",
   "id": "2e385225-33a8-43bc-82e5-c96fa260bfdb",
   "metadata": {},
   "source": [
    "\n",
    "***\n",
    "- There were 4 outlier observations removed from the [`train`] dataset\n",
    "***\n",
    "### Explore the [`ID`] feature\n",
    "- The [`ID`] feature looks like an ordinal variable\n",
    "- Check if all the observations are unique values\n",
    "    - Use `df[col].unique()` to check the possible unique values for the [`ID`] feature\n",
    "    - Use `df[col].nunique()` to check the number of unique values for the [`ID`] feature"
   ]
  },
  {
   "cell_type": "code",
   "execution_count": 10,
   "id": "5eede75c-8bac-45f3-9839-99fb1a778764",
   "metadata": {},
   "outputs": [
    {
     "name": "stdout",
     "output_type": "stream",
     "text": [
      "Possible unique ['ID'] values in the ['train'] dataset:  [   0    6    7 ... 8412 8415 8417]\n",
      "Number of unique ['ID']values in the ['train'] dataset:  4205\n",
      "\n",
      "Possible unique ['ID'] values in the ['test'] dataset:  [   1    2    3 ... 8413 8414 8416]\n",
      "Number of unique ['ID'] values in the ['test'] dataset:  4209\n"
     ]
    }
   ],
   "source": [
    "print('Possible unique [\\'ID\\'] values in the [\\'train\\'] dataset: ', train['ID'].unique())\n",
    "print('Number of unique [\\'ID\\']values in the [\\'train\\'] dataset: ', train['ID'].nunique())\n",
    "print()\n",
    "print('Possible unique [\\'ID\\'] values in the [\\'test\\'] dataset: ', test['ID'].unique())\n",
    "print('Number of unique [\\'ID\\'] values in the [\\'test\\'] dataset: ', test['ID'].nunique())"
   ]
  },
  {
   "cell_type": "markdown",
   "id": "e21e19ab-7ad7-460b-bd93-6c2bc493dd54",
   "metadata": {},
   "source": [
    "***\n",
    "- It looks like the [`train`] and [`test`] datasets might have been randomly splitted from a single source of data with [`ID`] values starting from 0 to 8417.\n",
    "- The [`ID`] feature has ordinal values and it has unique values for all 4205 and 4209 observations in the [`train`] and [`test`] datasets respectively.\n",
    "- This feature (column) can be dropped.\n",
    "***"
   ]
  },
  {
   "cell_type": "markdown",
   "id": "61031731-2d5e-449e-9c81-5c7c06d8c996",
   "metadata": {},
   "source": [
    "### Find variable(s) with variance equal to zero\n",
    "- Find the column(s) with variance equal to zero\n",
    "    - Get the Series of booleans which indicates if the columns has variance equal to zero (using `df.var() == 0`)\n",
    "    - Only numerical features have variance, so get the numeric dtypes columns that have zero variance  \n",
    "- Drop these column(s) that has zero variance later"
   ]
  },
  {
   "cell_type": "code",
   "execution_count": 11,
   "id": "958e7376-0466-43ff-b762-b9480ced3295",
   "metadata": {},
   "outputs": [
    {
     "name": "stdout",
     "output_type": "stream",
     "text": [
      "13 variables with variance equal to zero in ['train']:\n",
      "Columns are: ['X11', 'X93', 'X107', 'X233', 'X235', 'X268', 'X289', 'X290', 'X293', 'X297', 'X330', 'X339', 'X347']\n",
      "\n",
      "5 variables with variance equal to zero in ['test']:\n",
      "Columns are: ['X257', 'X258', 'X295', 'X296', 'X369']\n"
     ]
    }
   ],
   "source": [
    "# Get the columns with variance equal zero\n",
    "train_zero_var_col = train.select_dtypes(include=np.number).columns[train.var() == 0]\n",
    "test_zero_var_col = test.select_dtypes(include=np.number).columns[test.var() == 0]\n",
    "\n",
    "# Print the result\n",
    "print(len(train_zero_var_col), 'variables with variance equal to zero in [\\'train\\']:')\n",
    "print('Columns are:', train_zero_var_col.to_list())\n",
    "print()\n",
    "print(len(test_zero_var_col), 'variables with variance equal to zero in [\\'test\\']:')\n",
    "print('Columns are:', test_zero_var_col.to_list())"
   ]
  },
  {
   "cell_type": "markdown",
   "id": "442b59ee-d102-467b-83e5-e1d13663d2f1",
   "metadata": {},
   "source": [
    "***\n",
    "- 13 features out of the 369 numerical features in the `train` dataset have zero variance. \n",
    "- 5 features of of the 369 numerical features in the `test` dataset have zero variance.\n",
    "***\n",
    "### Check for null and unique values for test and train sets."
   ]
  },
  {
   "cell_type": "code",
   "execution_count": 12,
   "id": "eb2bb8cd-8f7d-42f4-9c28-d6fa8b6a375f",
   "metadata": {},
   "outputs": [
    {
     "name": "stdout",
     "output_type": "stream",
     "text": [
      "Columns with null values in train dataset: Index([], dtype='object')\n",
      "Columns with null values in test dataset: Index([], dtype='object')\n"
     ]
    }
   ],
   "source": [
    "# Check for null values in the train and test dataset\n",
    "print('Columns with null values in train dataset:', train.columns[train.isnull().any()])\n",
    "print('Columns with null values in test dataset:', test.columns[test.isnull().any()])"
   ]
  },
  {
   "cell_type": "markdown",
   "id": "655b6faf-c075-4363-9215-23c17bc63f75",
   "metadata": {},
   "source": [
    "***\n",
    "There are no null values in both the test and train sets.\n",
    "***\n",
    "#### Check the number of unique values in the [`train`] and [`test`] datasets\n",
    "- Use `df.nunique()` to check for number of unique values in the train and test datasets\n",
    "- Check the list of features that have more than 2 unique values in the [`train`] and [`test`] datasets respectively\n",
    "- Check the list of features that have 2 unique values in the [`train`] and [`test`] datasets respectively\n",
    "- Check the list of features with 1 unique value in the [`train`] and [`test`] datasets respectively"
   ]
  },
  {
   "cell_type": "code",
   "execution_count": 13,
   "id": "d27f8289-a844-4d76-af8a-7e21fea76d06",
   "metadata": {},
   "outputs": [
    {
     "name": "stdout",
     "output_type": "stream",
     "text": [
      "Train dataset:\n",
      "Columns with more than 2 unique values:\n",
      " Index(['ID', 'y', 'X0', 'X1', 'X2', 'X3', 'X4', 'X5', 'X6', 'X8'], dtype='object')\n",
      "Columns with only 2 unique values:\n",
      " Index(['X10', 'X12', 'X13', 'X14', 'X15', 'X16', 'X17', 'X18', 'X19', 'X20',\n",
      "       ...\n",
      "       'X375', 'X376', 'X377', 'X378', 'X379', 'X380', 'X382', 'X383', 'X384',\n",
      "       'X385'],\n",
      "      dtype='object', length=355)\n",
      "Columns with 1 unique value:\n",
      " Index(['X11', 'X93', 'X107', 'X233', 'X235', 'X268', 'X289', 'X290', 'X293',\n",
      "       'X297', 'X330', 'X339', 'X347'],\n",
      "      dtype='object')\n",
      "\n",
      "Test dataset:\n",
      "Columns with more than 2 unique values:\n",
      " Index(['ID', 'X0', 'X1', 'X2', 'X3', 'X4', 'X5', 'X6', 'X8'], dtype='object')\n",
      "Columns with only 2 unique values:\n",
      " Index(['X10', 'X11', 'X12', 'X13', 'X14', 'X15', 'X16', 'X17', 'X18', 'X19',\n",
      "       ...\n",
      "       'X375', 'X376', 'X377', 'X378', 'X379', 'X380', 'X382', 'X383', 'X384',\n",
      "       'X385'],\n",
      "      dtype='object', length=363)\n",
      "Columns with 1 unique value:\n",
      " Index(['X257', 'X258', 'X295', 'X296', 'X369'], dtype='object')\n"
     ]
    }
   ],
   "source": [
    "# Show the list of features with more than 2 unique values, with only 2 unique values and any with less than 2\n",
    "print('Train dataset:')\n",
    "print('Columns with more than 2 unique values:\\n', train.columns[train.nunique().values > 2])\n",
    "print('Columns with only 2 unique values:\\n', train.columns[train.nunique().values == 2])\n",
    "print('Columns with 1 unique value:\\n', train.columns[train.nunique().values < 2])\n",
    "\n",
    "print('\\nTest dataset:')\n",
    "print('Columns with more than 2 unique values:\\n',test.columns[test.nunique().values > 2])\n",
    "print('Columns with only 2 unique values:\\n', test.columns[test.nunique().values == 2])\n",
    "print('Columns with 1 unique value:\\n', test.columns[test.nunique().values < 2])"
   ]
  },
  {
   "cell_type": "markdown",
   "id": "636d10c3-ad35-4191-aa1e-4aaf904330de",
   "metadata": {},
   "source": [
    "***\n",
    "- [`ID`, `y`, `X0`, `X1`, `X2`, `X3`, `X4`, `X5`, `X6`, `X8`] in [`train`] dataset has more than 2 unique values.\n",
    "- [`ID`, `X0`, `X1`, `X2`, `X3`, `X4`, `X5`, `X6`, `X8`] in [`test`] dataset has more than 2 unique values.\n",
    "- Other than the [`ID`] and [`y`], the features with more than 2 unique values are categorical.\n",
    "- The 13 zero variance features, [`X11`, `X93`, `X107`, `X233`, `X235`, `X268`, `X289`, `X290`, `X293`, `X297`, `X330`, `X339`, `X347`], in the [`train`] dataset have only 1 unique value.\n",
    "- The 5 zero variance features, [`X257`, `X258`, `X295`, `X296`, `X369`], in the [`test`] dataset have only 1 unique value.\n",
    "- The remaining features in the [`train`] and [`test`] datasets respectively have are only 2 unique values.\n",
    "- There are 355 binary unique value columns in the ['train'] dataset.\n",
    "- There are 363 binary unique value columns in the ['test'] dataset.\n",
    "***"
   ]
  },
  {
   "cell_type": "markdown",
   "id": "ee6f4a40-060a-4cb5-9fc1-515263b5c48f",
   "metadata": {},
   "source": [
    "#### Unique Values for Categorical Variables\n",
    "- Get the unique values for the features, [`X0`] to [`X8`], for the ['train'] and ['test'] datasets."
   ]
  },
  {
   "cell_type": "code",
   "execution_count": 14,
   "id": "d83bc24b-781b-4432-ad96-1a73b8238fb9",
   "metadata": {},
   "outputs": [
    {
     "name": "stdout",
     "output_type": "stream",
     "text": [
      "Unique values for features [X0] to [X8] in ['train'] and ['test'] dataset:\n",
      "________________________________________________________________________________________________________________\n",
      "47 unique values for X0 in ['train'] ['k' 'az' 't' 'al' 'o' 'w' 'j' 'h' 's' 'n' 'ay' 'f' 'x' 'y' 'aj' 'ak' 'am'\n",
      " 'z' 'q' 'at' 'ap' 'v' 'af' 'a' 'e' 'ai' 'd' 'aq' 'c' 'aa' 'ba' 'as' 'i'\n",
      " 'r' 'b' 'ax' 'bc' 'u' 'ad' 'au' 'm' 'l' 'aw' 'ao' 'ac' 'g' 'ab']\n",
      "________________________________________________________________________________________________________________\n",
      "49 unique values for X0 in ['test'] ['az' 't' 'w' 'y' 'x' 'f' 'ap' 'o' 'ay' 'al' 'h' 'z' 'aj' 'd' 'v' 'ak'\n",
      " 'ba' 'n' 'j' 's' 'af' 'ax' 'at' 'aq' 'av' 'm' 'k' 'a' 'e' 'ai' 'i' 'ag'\n",
      " 'b' 'am' 'aw' 'as' 'r' 'ao' 'u' 'l' 'c' 'ad' 'au' 'bc' 'g' 'an' 'ae' 'p'\n",
      " 'bb']\n",
      "________________________________________________________________________________________________________________\n",
      "27 unique values for X1 in ['train'] ['v' 't' 'w' 'b' 'r' 'l' 's' 'aa' 'c' 'a' 'e' 'h' 'z' 'j' 'o' 'u' 'p' 'n'\n",
      " 'i' 'y' 'd' 'f' 'm' 'k' 'g' 'q' 'ab']\n",
      "________________________________________________________________________________________________________________\n",
      "27 unique values for X1 in ['test'] ['v' 'b' 'l' 's' 'aa' 'r' 'a' 'i' 'p' 'c' 'o' 'm' 'z' 'e' 'h' 'w' 'g' 'k'\n",
      " 'y' 't' 'u' 'd' 'j' 'q' 'n' 'f' 'ab']\n",
      "________________________________________________________________________________________________________________\n",
      "44 unique values for X2 in ['train'] ['at' 'av' 'n' 'e' 'as' 'aq' 'r' 'ai' 'ak' 'm' 'a' 'k' 'ae' 's' 'f' 'd'\n",
      " 'ag' 'ay' 'ac' 'ap' 'g' 'i' 'aw' 'y' 'b' 'ao' 'al' 'h' 'x' 'au' 't' 'an'\n",
      " 'z' 'ah' 'p' 'am' 'j' 'q' 'af' 'l' 'aa' 'c' 'o' 'ar']\n",
      "________________________________________________________________________________________________________________\n",
      "45 unique values for X2 in ['test'] ['n' 'ai' 'as' 'ae' 's' 'b' 'e' 'ak' 'm' 'a' 'aq' 'ag' 'r' 'k' 'aj' 'ay'\n",
      " 'ao' 'an' 'ac' 'af' 'ax' 'h' 'i' 'f' 'ap' 'p' 'au' 't' 'z' 'y' 'aw' 'd'\n",
      " 'at' 'g' 'am' 'j' 'x' 'ab' 'w' 'q' 'ah' 'ad' 'al' 'av' 'u']\n",
      "________________________________________________________________________________________________________________\n",
      "7 unique values for X3 in ['train'] ['a' 'e' 'c' 'f' 'd' 'b' 'g']\n",
      "________________________________________________________________________________________________________________\n",
      "7 unique values for X3 in ['test'] ['f' 'a' 'c' 'e' 'd' 'g' 'b']\n",
      "________________________________________________________________________________________________________________\n",
      "4 unique values for X4 in ['train'] ['d' 'b' 'c' 'a']\n",
      "________________________________________________________________________________________________________________\n",
      "4 unique values for X4 in ['test'] ['d' 'b' 'a' 'c']\n",
      "________________________________________________________________________________________________________________\n",
      "29 unique values for X5 in ['train'] ['u' 'y' 'x' 'h' 'g' 'f' 'j' 'i' 'd' 'c' 'af' 'ag' 'ab' 'ac' 'ad' 'ae'\n",
      " 'ah' 'l' 'k' 'n' 'm' 'p' 'q' 's' 'r' 'v' 'w' 'o' 'aa']\n",
      "________________________________________________________________________________________________________________\n",
      "32 unique values for X5 in ['test'] ['t' 'b' 'a' 'z' 'y' 'x' 'h' 'g' 'f' 'j' 'i' 'd' 'c' 'af' 'ag' 'ab' 'ac'\n",
      " 'ad' 'ae' 'ah' 'l' 'k' 'n' 'm' 'p' 'q' 's' 'r' 'v' 'w' 'o' 'aa']\n",
      "________________________________________________________________________________________________________________\n",
      "12 unique values for X6 in ['train'] ['j' 'l' 'd' 'h' 'i' 'a' 'g' 'c' 'k' 'e' 'f' 'b']\n",
      "________________________________________________________________________________________________________________\n",
      "12 unique values for X6 in ['test'] ['a' 'g' 'j' 'l' 'i' 'd' 'f' 'h' 'c' 'k' 'e' 'b']\n",
      "________________________________________________________________________________________________________________\n",
      "25 unique values for X8 in ['train'] ['o' 'x' 'e' 'n' 's' 'a' 'h' 'p' 'm' 'k' 'd' 'i' 'v' 'j' 'b' 'q' 'w' 'g'\n",
      " 'y' 'l' 'f' 'u' 'r' 't' 'c']\n",
      "________________________________________________________________________________________________________________\n",
      "25 unique values for X8 in ['test'] ['w' 'y' 'j' 'n' 'm' 's' 'a' 'v' 'r' 'o' 't' 'h' 'c' 'k' 'p' 'u' 'd' 'g'\n",
      " 'b' 'q' 'e' 'l' 'f' 'i' 'x']\n",
      "________________________________________________________________________________________________________________\n",
      "2541 unique values for y in ['train'] [130.81  88.53  76.26 ...  85.71 108.77  87.48]\n"
     ]
    }
   ],
   "source": [
    "# The list of column names for the categrical variables in the train and test datasets\n",
    "labels = ['X0', 'X1', 'X2', 'X3', 'X4', 'X5', 'X6', 'X8']\n",
    "\n",
    "# Get unique values for variables X0 to X8 in train dataset\n",
    "print('Unique values for features [X0] to [X8] in [\\'train\\'] and [\\'test\\'] dataset:')\n",
    "print('_'*112)\n",
    "for col in labels:\n",
    "    print(train[col].nunique(), 'unique values for', col, 'in [\\'train\\']', train[col].unique())\n",
    "    print('_'* 112)\n",
    "    \n",
    "    print(test[col].nunique(), 'unique values for', col, 'in [\\'test\\']', test[col].unique())\n",
    "    print('_'* 112)\n",
    "    \n",
    "col = 'y'\n",
    "print(train[col].nunique(), 'unique values for', col, 'in [\\'train\\']', train[col].unique())"
   ]
  },
  {
   "cell_type": "code",
   "execution_count": 15,
   "id": "fd9299f0-552a-4c5a-a74b-db651ea99411",
   "metadata": {},
   "outputs": [
    {
     "data": {
      "text/html": [
       "<div>\n",
       "<style scoped>\n",
       "    .dataframe tbody tr th:only-of-type {\n",
       "        vertical-align: middle;\n",
       "    }\n",
       "\n",
       "    .dataframe tbody tr th {\n",
       "        vertical-align: top;\n",
       "    }\n",
       "\n",
       "    .dataframe thead th {\n",
       "        text-align: right;\n",
       "    }\n",
       "</style>\n",
       "<table border=\"1\" class=\"dataframe\">\n",
       "  <thead>\n",
       "    <tr style=\"text-align: right;\">\n",
       "      <th></th>\n",
       "      <th>X0</th>\n",
       "      <th>X1</th>\n",
       "      <th>X2</th>\n",
       "      <th>X3</th>\n",
       "      <th>X4</th>\n",
       "      <th>X5</th>\n",
       "      <th>X6</th>\n",
       "      <th>X8</th>\n",
       "    </tr>\n",
       "  </thead>\n",
       "  <tbody>\n",
       "    <tr>\n",
       "      <th>count</th>\n",
       "      <td>4205</td>\n",
       "      <td>4205</td>\n",
       "      <td>4205</td>\n",
       "      <td>4205</td>\n",
       "      <td>4205</td>\n",
       "      <td>4205</td>\n",
       "      <td>4205</td>\n",
       "      <td>4205</td>\n",
       "    </tr>\n",
       "    <tr>\n",
       "      <th>unique</th>\n",
       "      <td>47</td>\n",
       "      <td>27</td>\n",
       "      <td>44</td>\n",
       "      <td>7</td>\n",
       "      <td>4</td>\n",
       "      <td>29</td>\n",
       "      <td>12</td>\n",
       "      <td>25</td>\n",
       "    </tr>\n",
       "    <tr>\n",
       "      <th>top</th>\n",
       "      <td>z</td>\n",
       "      <td>aa</td>\n",
       "      <td>as</td>\n",
       "      <td>c</td>\n",
       "      <td>d</td>\n",
       "      <td>w</td>\n",
       "      <td>g</td>\n",
       "      <td>j</td>\n",
       "    </tr>\n",
       "    <tr>\n",
       "      <th>freq</th>\n",
       "      <td>360</td>\n",
       "      <td>833</td>\n",
       "      <td>1659</td>\n",
       "      <td>1941</td>\n",
       "      <td>4201</td>\n",
       "      <td>231</td>\n",
       "      <td>1040</td>\n",
       "      <td>277</td>\n",
       "    </tr>\n",
       "  </tbody>\n",
       "</table>\n",
       "</div>"
      ],
      "text/plain": [
       "          X0    X1    X2    X3    X4    X5    X6    X8\n",
       "count   4205  4205  4205  4205  4205  4205  4205  4205\n",
       "unique    47    27    44     7     4    29    12    25\n",
       "top        z    aa    as     c     d     w     g     j\n",
       "freq     360   833  1659  1941  4201   231  1040   277"
      ]
     },
     "execution_count": 15,
     "metadata": {},
     "output_type": "execute_result"
    }
   ],
   "source": [
    "# Show statistical details for the categorical variables in the train dataset\n",
    "train.describe(include='O')"
   ]
  },
  {
   "cell_type": "code",
   "execution_count": 16,
   "id": "0d0cee90-9e01-4bb2-b663-ca45be1057f0",
   "metadata": {},
   "outputs": [
    {
     "data": {
      "text/html": [
       "<div>\n",
       "<style scoped>\n",
       "    .dataframe tbody tr th:only-of-type {\n",
       "        vertical-align: middle;\n",
       "    }\n",
       "\n",
       "    .dataframe tbody tr th {\n",
       "        vertical-align: top;\n",
       "    }\n",
       "\n",
       "    .dataframe thead th {\n",
       "        text-align: right;\n",
       "    }\n",
       "</style>\n",
       "<table border=\"1\" class=\"dataframe\">\n",
       "  <thead>\n",
       "    <tr style=\"text-align: right;\">\n",
       "      <th></th>\n",
       "      <th>X0</th>\n",
       "      <th>X1</th>\n",
       "      <th>X2</th>\n",
       "      <th>X3</th>\n",
       "      <th>X4</th>\n",
       "      <th>X5</th>\n",
       "      <th>X6</th>\n",
       "      <th>X8</th>\n",
       "    </tr>\n",
       "  </thead>\n",
       "  <tbody>\n",
       "    <tr>\n",
       "      <th>count</th>\n",
       "      <td>4209</td>\n",
       "      <td>4209</td>\n",
       "      <td>4209</td>\n",
       "      <td>4209</td>\n",
       "      <td>4209</td>\n",
       "      <td>4209</td>\n",
       "      <td>4209</td>\n",
       "      <td>4209</td>\n",
       "    </tr>\n",
       "    <tr>\n",
       "      <th>unique</th>\n",
       "      <td>49</td>\n",
       "      <td>27</td>\n",
       "      <td>45</td>\n",
       "      <td>7</td>\n",
       "      <td>4</td>\n",
       "      <td>32</td>\n",
       "      <td>12</td>\n",
       "      <td>25</td>\n",
       "    </tr>\n",
       "    <tr>\n",
       "      <th>top</th>\n",
       "      <td>ak</td>\n",
       "      <td>aa</td>\n",
       "      <td>as</td>\n",
       "      <td>c</td>\n",
       "      <td>d</td>\n",
       "      <td>v</td>\n",
       "      <td>g</td>\n",
       "      <td>e</td>\n",
       "    </tr>\n",
       "    <tr>\n",
       "      <th>freq</th>\n",
       "      <td>432</td>\n",
       "      <td>826</td>\n",
       "      <td>1658</td>\n",
       "      <td>1900</td>\n",
       "      <td>4203</td>\n",
       "      <td>246</td>\n",
       "      <td>1073</td>\n",
       "      <td>274</td>\n",
       "    </tr>\n",
       "  </tbody>\n",
       "</table>\n",
       "</div>"
      ],
      "text/plain": [
       "          X0    X1    X2    X3    X4    X5    X6    X8\n",
       "count   4209  4209  4209  4209  4209  4209  4209  4209\n",
       "unique    49    27    45     7     4    32    12    25\n",
       "top       ak    aa    as     c     d     v     g     e\n",
       "freq     432   826  1658  1900  4203   246  1073   274"
      ]
     },
     "execution_count": 16,
     "metadata": {},
     "output_type": "execute_result"
    }
   ],
   "source": [
    "# Show statistical details for the categorical variables in the test dataset\n",
    "test.describe(include='O')"
   ]
  },
  {
   "cell_type": "markdown",
   "id": "f23f1ba5-0a79-4c9b-9008-52087865a321",
   "metadata": {},
   "source": [
    "***\n",
    "- Looks like there might be some unique values that appears in the [`test`] dataset but not in the [`train`] dataset.\n",
    "***\n",
    "#### Visualize the Categorical Features against the Target Variable\n",
    "- Show the boxplot for each of the categorical features"
   ]
  },
  {
   "cell_type": "code",
   "execution_count": 17,
   "id": "0426e237-a364-43ee-8b7a-6a4b47c2696d",
   "metadata": {},
   "outputs": [
    {
     "data": {
      "image/png": "[encoded data removed]",
      "text/plain": [
       "<Figure size 1440x3600 with 8 Axes>"
      ]
     },
     "metadata": {
      "needs_background": "light"
     },
     "output_type": "display_data"
    }
   ],
   "source": [
    "fig, axes = plt.subplots(len(labels), figsize=(20, 50))\n",
    "\n",
    "for i, col in enumerate(labels):\n",
    "    sns.boxplot(x=col, y='y', data=train, ax=axes[i])"
   ]
  },
  {
   "cell_type": "markdown",
   "id": "301ff5f6-5b8d-43cb-add1-98c707a2dc6b",
   "metadata": {},
   "source": [
    "***\n",
    "- X0 and X2 have the most variance in its bench testing time\n",
    "- X1, X3, X5, X6, X8 are more or less consistent in the bench testing time\n",
    "- X4 has only 4 unique values with the bench testing time within the target variable normal distribution\n",
    "***"
   ]
  },
  {
   "cell_type": "markdown",
   "id": "ce31c8a6-d6ad-45f7-bf42-91b19e92a3d4",
   "metadata": {},
   "source": [
    "#### Unique Values for Numerical Variables\n",
    "- First show the unique value with 2 or 1 unique values for some of the features in the [`train`] dataset\n",
    "- Then show the uniqe value with 2 or 1 unique value for some of the features in the [`test`] dataset"
   ]
  },
  {
   "cell_type": "code",
   "execution_count": 18,
   "id": "887ed5b8-5cc7-4ff9-9048-0b859ebf9e5b",
   "metadata": {},
   "outputs": [
    {
     "name": "stdout",
     "output_type": "stream",
     "text": [
      "Unique values for numerical features in train dataset\n",
      "____________________________________________________________________________________________________\n",
      "2 unique values for X10 [0 1]\n",
      "2 unique values for X12 [0 1]\n",
      "2 unique values for X13 [1 0]\n",
      "2 unique values for X14 [0 1]\n",
      "2 unique values for X15 [0 1]\n",
      "2 unique values for X380 [0 1]\n",
      "2 unique values for X382 [0 1]\n",
      "2 unique values for X383 [0 1]\n",
      "2 unique values for X384 [0 1]\n",
      "2 unique values for X385 [0 1]\n",
      "1 unique values for X11 [0]\n",
      "1 unique values for X93 [0]\n",
      "1 unique values for X107 [0]\n",
      "1 unique values for X233 [0]\n",
      "1 unique values for X235 [0]\n",
      "____________________________________________________________________________________________________\n",
      "Unique values for numerical features in test dataset\n",
      "____________________________________________________________________________________________________\n",
      "2 unique values for X28 [1 0]\n",
      "2 unique values for X29 [1 0]\n",
      "2 unique values for X30 [0 1]\n",
      "2 unique values for X31 [1 0]\n",
      "2 unique values for X32 [0 1]\n",
      "2 unique values for X198 [0 1]\n",
      "2 unique values for X199 [0 1]\n",
      "2 unique values for X200 [0 1]\n",
      "2 unique values for X201 [0 1]\n",
      "2 unique values for X202 [0 1]\n",
      "1 unique values for X257 [0]\n",
      "1 unique values for X258 [0]\n",
      "1 unique values for X295 [0]\n",
      "1 unique values for X296 [0]\n",
      "1 unique values for X369 [0]\n"
     ]
    }
   ],
   "source": [
    "# Print the unique values for some of the numerica features just to see what unique values they have\n",
    "print('Unique values for numerical features in train dataset')\n",
    "print('_'*100)\n",
    "for col in ['X10', 'X12', 'X13', 'X14', 'X15', 'X380', 'X382', 'X383', 'X384', 'X385']:\n",
    "    print(train[col].nunique(), 'unique values for', col, train[col].unique())\n",
    "    \n",
    "for col in ['X11', 'X93', 'X107', 'X233', 'X235']:\n",
    "    print(train[col].nunique(), 'unique values for', col, train[col].unique())\n",
    "\n",
    "print('_'*100)\n",
    "print('Unique values for numerical features in test dataset')\n",
    "print('_'*100)\n",
    "for col in ['X28', 'X29', 'X30', 'X31', 'X32', 'X198', 'X199', 'X200', 'X201', 'X202']:\n",
    "    print(test[col].nunique(), 'unique values for', col, test[col].unique())\n",
    "\n",
    "for col in ['X257', 'X258', 'X295', 'X296', 'X369']:\n",
    "    print(test[col].nunique(), 'unique values for', col, test[col].unique())"
   ]
  },
  {
   "cell_type": "markdown",
   "id": "8062380e-df17-45e8-a165-b207275bb244",
   "metadata": {},
   "source": [
    "***\n",
    "- From the `df.describe()` display of statistics, the `min` and `max` value show 0 and 1 respectively for most of the numerical features.\n",
    "- Some of the numerical features have 0 for both the `min` and `max` values - these are the columns with variance equal to zero.\n",
    "- It can be confirmed that other than the features with zero variance in [X10] to [X385], these numerical features have 2 unique values, 0 and 1."
   ]
  },
  {
   "cell_type": "code",
   "execution_count": 19,
   "id": "2724e676-d4dd-45a4-b297-5a0b2ad4dc50",
   "metadata": {},
   "outputs": [
    {
     "data": {
      "text/html": [
       "<div>\n",
       "<style scoped>\n",
       "    .dataframe tbody tr th:only-of-type {\n",
       "        vertical-align: middle;\n",
       "    }\n",
       "\n",
       "    .dataframe tbody tr th {\n",
       "        vertical-align: top;\n",
       "    }\n",
       "\n",
       "    .dataframe thead th {\n",
       "        text-align: right;\n",
       "    }\n",
       "</style>\n",
       "<table border=\"1\" class=\"dataframe\">\n",
       "  <thead>\n",
       "    <tr style=\"text-align: right;\">\n",
       "      <th></th>\n",
       "      <th>ID</th>\n",
       "      <th>y</th>\n",
       "      <th>X10</th>\n",
       "      <th>X11</th>\n",
       "      <th>X12</th>\n",
       "      <th>X13</th>\n",
       "      <th>X14</th>\n",
       "      <th>X15</th>\n",
       "      <th>X16</th>\n",
       "      <th>X17</th>\n",
       "      <th>...</th>\n",
       "      <th>X375</th>\n",
       "      <th>X376</th>\n",
       "      <th>X377</th>\n",
       "      <th>X378</th>\n",
       "      <th>X379</th>\n",
       "      <th>X380</th>\n",
       "      <th>X382</th>\n",
       "      <th>X383</th>\n",
       "      <th>X384</th>\n",
       "      <th>X385</th>\n",
       "    </tr>\n",
       "  </thead>\n",
       "  <tbody>\n",
       "    <tr>\n",
       "      <th>count</th>\n",
       "      <td>4205.000000</td>\n",
       "      <td>4205.000000</td>\n",
       "      <td>4205.000000</td>\n",
       "      <td>4205.0</td>\n",
       "      <td>4205.000000</td>\n",
       "      <td>4205.000000</td>\n",
       "      <td>4205.000000</td>\n",
       "      <td>4205.000000</td>\n",
       "      <td>4205.000000</td>\n",
       "      <td>4205.000000</td>\n",
       "      <td>...</td>\n",
       "      <td>4205.000000</td>\n",
       "      <td>4205.000000</td>\n",
       "      <td>4205.000000</td>\n",
       "      <td>4205.00000</td>\n",
       "      <td>4205.000000</td>\n",
       "      <td>4205.000000</td>\n",
       "      <td>4205.000000</td>\n",
       "      <td>4205.000000</td>\n",
       "      <td>4205.000000</td>\n",
       "      <td>4205.000000</td>\n",
       "    </tr>\n",
       "    <tr>\n",
       "      <th>mean</th>\n",
       "      <td>4207.196671</td>\n",
       "      <td>100.582392</td>\n",
       "      <td>0.013317</td>\n",
       "      <td>0.0</td>\n",
       "      <td>0.074673</td>\n",
       "      <td>0.057788</td>\n",
       "      <td>0.428537</td>\n",
       "      <td>0.000476</td>\n",
       "      <td>0.002616</td>\n",
       "      <td>0.007610</td>\n",
       "      <td>...</td>\n",
       "      <td>0.319144</td>\n",
       "      <td>0.057313</td>\n",
       "      <td>0.314625</td>\n",
       "      <td>0.02069</td>\n",
       "      <td>0.009512</td>\n",
       "      <td>0.008086</td>\n",
       "      <td>0.007610</td>\n",
       "      <td>0.001665</td>\n",
       "      <td>0.000476</td>\n",
       "      <td>0.001427</td>\n",
       "    </tr>\n",
       "    <tr>\n",
       "      <th>std</th>\n",
       "      <td>2437.580961</td>\n",
       "      <td>12.298859</td>\n",
       "      <td>0.114644</td>\n",
       "      <td>0.0</td>\n",
       "      <td>0.262894</td>\n",
       "      <td>0.233371</td>\n",
       "      <td>0.494926</td>\n",
       "      <td>0.021806</td>\n",
       "      <td>0.051085</td>\n",
       "      <td>0.086913</td>\n",
       "      <td>...</td>\n",
       "      <td>0.466200</td>\n",
       "      <td>0.232467</td>\n",
       "      <td>0.464422</td>\n",
       "      <td>0.14236</td>\n",
       "      <td>0.097079</td>\n",
       "      <td>0.089566</td>\n",
       "      <td>0.086913</td>\n",
       "      <td>0.040771</td>\n",
       "      <td>0.021806</td>\n",
       "      <td>0.037751</td>\n",
       "    </tr>\n",
       "    <tr>\n",
       "      <th>min</th>\n",
       "      <td>0.000000</td>\n",
       "      <td>72.110000</td>\n",
       "      <td>0.000000</td>\n",
       "      <td>0.0</td>\n",
       "      <td>0.000000</td>\n",
       "      <td>0.000000</td>\n",
       "      <td>0.000000</td>\n",
       "      <td>0.000000</td>\n",
       "      <td>0.000000</td>\n",
       "      <td>0.000000</td>\n",
       "      <td>...</td>\n",
       "      <td>0.000000</td>\n",
       "      <td>0.000000</td>\n",
       "      <td>0.000000</td>\n",
       "      <td>0.00000</td>\n",
       "      <td>0.000000</td>\n",
       "      <td>0.000000</td>\n",
       "      <td>0.000000</td>\n",
       "      <td>0.000000</td>\n",
       "      <td>0.000000</td>\n",
       "      <td>0.000000</td>\n",
       "    </tr>\n",
       "    <tr>\n",
       "      <th>25%</th>\n",
       "      <td>2096.000000</td>\n",
       "      <td>90.810000</td>\n",
       "      <td>0.000000</td>\n",
       "      <td>0.0</td>\n",
       "      <td>0.000000</td>\n",
       "      <td>0.000000</td>\n",
       "      <td>0.000000</td>\n",
       "      <td>0.000000</td>\n",
       "      <td>0.000000</td>\n",
       "      <td>0.000000</td>\n",
       "      <td>...</td>\n",
       "      <td>0.000000</td>\n",
       "      <td>0.000000</td>\n",
       "      <td>0.000000</td>\n",
       "      <td>0.00000</td>\n",
       "      <td>0.000000</td>\n",
       "      <td>0.000000</td>\n",
       "      <td>0.000000</td>\n",
       "      <td>0.000000</td>\n",
       "      <td>0.000000</td>\n",
       "      <td>0.000000</td>\n",
       "    </tr>\n",
       "    <tr>\n",
       "      <th>50%</th>\n",
       "      <td>4221.000000</td>\n",
       "      <td>99.140000</td>\n",
       "      <td>0.000000</td>\n",
       "      <td>0.0</td>\n",
       "      <td>0.000000</td>\n",
       "      <td>0.000000</td>\n",
       "      <td>0.000000</td>\n",
       "      <td>0.000000</td>\n",
       "      <td>0.000000</td>\n",
       "      <td>0.000000</td>\n",
       "      <td>...</td>\n",
       "      <td>0.000000</td>\n",
       "      <td>0.000000</td>\n",
       "      <td>0.000000</td>\n",
       "      <td>0.00000</td>\n",
       "      <td>0.000000</td>\n",
       "      <td>0.000000</td>\n",
       "      <td>0.000000</td>\n",
       "      <td>0.000000</td>\n",
       "      <td>0.000000</td>\n",
       "      <td>0.000000</td>\n",
       "    </tr>\n",
       "    <tr>\n",
       "      <th>75%</th>\n",
       "      <td>6315.000000</td>\n",
       "      <td>109.000000</td>\n",
       "      <td>0.000000</td>\n",
       "      <td>0.0</td>\n",
       "      <td>0.000000</td>\n",
       "      <td>0.000000</td>\n",
       "      <td>1.000000</td>\n",
       "      <td>0.000000</td>\n",
       "      <td>0.000000</td>\n",
       "      <td>0.000000</td>\n",
       "      <td>...</td>\n",
       "      <td>1.000000</td>\n",
       "      <td>0.000000</td>\n",
       "      <td>1.000000</td>\n",
       "      <td>0.00000</td>\n",
       "      <td>0.000000</td>\n",
       "      <td>0.000000</td>\n",
       "      <td>0.000000</td>\n",
       "      <td>0.000000</td>\n",
       "      <td>0.000000</td>\n",
       "      <td>0.000000</td>\n",
       "    </tr>\n",
       "    <tr>\n",
       "      <th>max</th>\n",
       "      <td>8417.000000</td>\n",
       "      <td>160.870000</td>\n",
       "      <td>1.000000</td>\n",
       "      <td>0.0</td>\n",
       "      <td>1.000000</td>\n",
       "      <td>1.000000</td>\n",
       "      <td>1.000000</td>\n",
       "      <td>1.000000</td>\n",
       "      <td>1.000000</td>\n",
       "      <td>1.000000</td>\n",
       "      <td>...</td>\n",
       "      <td>1.000000</td>\n",
       "      <td>1.000000</td>\n",
       "      <td>1.000000</td>\n",
       "      <td>1.00000</td>\n",
       "      <td>1.000000</td>\n",
       "      <td>1.000000</td>\n",
       "      <td>1.000000</td>\n",
       "      <td>1.000000</td>\n",
       "      <td>1.000000</td>\n",
       "      <td>1.000000</td>\n",
       "    </tr>\n",
       "  </tbody>\n",
       "</table>\n",
       "<p>8 rows × 370 columns</p>\n",
       "</div>"
      ],
      "text/plain": [
       "                ID            y          X10     X11          X12  \\\n",
       "count  4205.000000  4205.000000  4205.000000  4205.0  4205.000000   \n",
       "mean   4207.196671   100.582392     0.013317     0.0     0.074673   \n",
       "std    2437.580961    12.298859     0.114644     0.0     0.262894   \n",
       "min       0.000000    72.110000     0.000000     0.0     0.000000   \n",
       "25%    2096.000000    90.810000     0.000000     0.0     0.000000   \n",
       "50%    4221.000000    99.140000     0.000000     0.0     0.000000   \n",
       "75%    6315.000000   109.000000     0.000000     0.0     0.000000   \n",
       "max    8417.000000   160.870000     1.000000     0.0     1.000000   \n",
       "\n",
       "               X13          X14          X15          X16          X17  ...  \\\n",
       "count  4205.000000  4205.000000  4205.000000  4205.000000  4205.000000  ...   \n",
       "mean      0.057788     0.428537     0.000476     0.002616     0.007610  ...   \n",
       "std       0.233371     0.494926     0.021806     0.051085     0.086913  ...   \n",
       "min       0.000000     0.000000     0.000000     0.000000     0.000000  ...   \n",
       "25%       0.000000     0.000000     0.000000     0.000000     0.000000  ...   \n",
       "50%       0.000000     0.000000     0.000000     0.000000     0.000000  ...   \n",
       "75%       0.000000     1.000000     0.000000     0.000000     0.000000  ...   \n",
       "max       1.000000     1.000000     1.000000     1.000000     1.000000  ...   \n",
       "\n",
       "              X375         X376         X377        X378         X379  \\\n",
       "count  4205.000000  4205.000000  4205.000000  4205.00000  4205.000000   \n",
       "mean      0.319144     0.057313     0.314625     0.02069     0.009512   \n",
       "std       0.466200     0.232467     0.464422     0.14236     0.097079   \n",
       "min       0.000000     0.000000     0.000000     0.00000     0.000000   \n",
       "25%       0.000000     0.000000     0.000000     0.00000     0.000000   \n",
       "50%       0.000000     0.000000     0.000000     0.00000     0.000000   \n",
       "75%       1.000000     0.000000     1.000000     0.00000     0.000000   \n",
       "max       1.000000     1.000000     1.000000     1.00000     1.000000   \n",
       "\n",
       "              X380         X382         X383         X384         X385  \n",
       "count  4205.000000  4205.000000  4205.000000  4205.000000  4205.000000  \n",
       "mean      0.008086     0.007610     0.001665     0.000476     0.001427  \n",
       "std       0.089566     0.086913     0.040771     0.021806     0.037751  \n",
       "min       0.000000     0.000000     0.000000     0.000000     0.000000  \n",
       "25%       0.000000     0.000000     0.000000     0.000000     0.000000  \n",
       "50%       0.000000     0.000000     0.000000     0.000000     0.000000  \n",
       "75%       0.000000     0.000000     0.000000     0.000000     0.000000  \n",
       "max       1.000000     1.000000     1.000000     1.000000     1.000000  \n",
       "\n",
       "[8 rows x 370 columns]"
      ]
     },
     "execution_count": 19,
     "metadata": {},
     "output_type": "execute_result"
    }
   ],
   "source": [
    "# High level statistics for numerical variables - Cardinality\n",
    "train.describe()"
   ]
  },
  {
   "cell_type": "markdown",
   "id": "8b8caf8e-cd26-4c98-9a14-a6ac348d2662",
   "metadata": {},
   "source": [
    "## Feature Engineering\n",
    "- Split the [`train`] dataset into X_train (train) and X_val (validation) datasets for training the model"
   ]
  },
  {
   "cell_type": "code",
   "execution_count": 20,
   "id": "c64b2045-0621-4182-8239-ab37a9d6bd5c",
   "metadata": {},
   "outputs": [],
   "source": [
    "# Split dataset to train and validation\n",
    "from sklearn.model_selection import train_test_split\n",
    "\n",
    "y = train['y']\n",
    "X = train.drop(columns=['y'])\n",
    "\n",
    "X_train, X_val, y_train, y_val = train_test_split(X, y, random_state=42)"
   ]
  },
  {
   "cell_type": "code",
   "execution_count": 21,
   "id": "c6711b77-70fb-4994-a010-b818b63e3d6c",
   "metadata": {},
   "outputs": [
    {
     "name": "stdout",
     "output_type": "stream",
     "text": [
      "(3153, 377) (1052, 377)\n"
     ]
    }
   ],
   "source": [
    "print(X_train.shape, X_val.shape)"
   ]
  },
  {
   "cell_type": "markdown",
   "id": "6c8cd8e7-4131-40e1-b0c9-4f36c22da86a",
   "metadata": {},
   "source": [
    "***\n",
    "- There are 3153 observations in the [`X_train`] dataset\n",
    "- There are 1052 observations in the [`X_val`] dataset\n",
    "***\n",
    "### Apply label encoder.\n",
    "- It looks like the unique values in the [`train`] and [`test`] datasets might be different in some cases.\n",
    "- To make sure that all labels are encoded when applying label encoder, compile the full list of unique values for each of the features.\n",
    "- Train (fit) the categorical labels with the compiled list of unique values for each feature.\n",
    "- Then apply (transform) the label encoding to the [`X_train`] and [`X_val`] datasets."
   ]
  },
  {
   "cell_type": "code",
   "execution_count": 22,
   "id": "dbd47e54-7146-4f22-ae64-b7c5aaecd224",
   "metadata": {},
   "outputs": [
    {
     "name": "stdout",
     "output_type": "stream",
     "text": [
      "Categorical Features: ['X0', 'X1', 'X2', 'X3', 'X4', 'X5', 'X6', 'X8']\n",
      "Checking to make sure ['test'] categorical columns are the same: ['X0', 'X1', 'X2', 'X3', 'X4', 'X5', 'X6', 'X8']\n"
     ]
    }
   ],
   "source": [
    "# Get the categorical columns from the dataset.\n",
    "cat_cols = train.select_dtypes(exclude=np.number).columns.to_list()\n",
    "\n",
    "print('Categorical Features:', cat_cols)\n",
    "print('Checking to make sure [\\'test\\'] categorical columns are the same:',\n",
    "      test.select_dtypes(exclude=np.number).columns.to_list())"
   ]
  },
  {
   "cell_type": "code",
   "execution_count": 23,
   "id": "673c8ce6-237d-409c-8a82-541891dabafd",
   "metadata": {},
   "outputs": [
    {
     "name": "stdout",
     "output_type": "stream",
     "text": [
      "45 unique values for X0 in the ['X_train'] ['f' 't' 'ak' 'z' 'af' 'y' 'h' 'j' 'v' 's' 'n' 'x' 'az' 'k' 'ay' 'o' 'aj'\n",
      " 'w' 'e' 'ap' 'l' 'd' 'al' 'at' 'i' 'ba' 'as' 'au' 'a' 'ax' 'aq' 'b' 'ad'\n",
      " 'q' 'am' 'u' 'm' 'c' 'ai' 'r' 'aw' 'bc' 'ao' 'g' 'ab']\n"
     ]
    }
   ],
   "source": [
    "# Print the categorical value for ['X0'] feature before applying label encoding, to use for verification later\n",
    "print(X_train['X0'].nunique(), 'unique values for X0 in the [\\'X_train\\']', X_train['X0'].unique())"
   ]
  },
  {
   "cell_type": "code",
   "execution_count": 24,
   "id": "b2ed6e33-a83c-45e1-b07c-b8bf756be517",
   "metadata": {},
   "outputs": [],
   "source": [
    "# Import the LabelEncoder\n",
    "from sklearn.preprocessing import LabelEncoder\n",
    "\n",
    "def encodeCategoricalLabel(unique_labels):\n",
    "    # Initiate the LabelEncoder\n",
    "    label_encoder = LabelEncoder()\n",
    "    \n",
    "    # Train the encoder with the list of unique labels\n",
    "    label_encoder.fit(unique_labels)\n",
    "    \n",
    "    return label_encoder\n",
    "\n",
    "# Save each label encoder to a dictionary for verification using inverse_transform()\n",
    "label_encoder_dict = {}\n",
    "\n",
    "# Process each feature (Categorical columns)\n",
    "for col in cat_cols: \n",
    "    # Combine both unique values list from ['train'] and ['test'] datasets\n",
    "    unique_labels = list(train[col].unique()) + list(test[col].unique())\n",
    "    \n",
    "    # Add encoder for each feature to dictionary after training the encoder\n",
    "    cat_label_encoder = encodeCategoricalLabel(unique_labels)\n",
    "    label_encoder_dict[col] = cat_label_encoder\n",
    "    \n",
    "    # Transform the categorical labels to numerical values using the LabelEncoder\n",
    "    X_train[col] = cat_label_encoder.transform(X_train[col])\n",
    "    X_val[col] = cat_label_encoder.transform(X_val[col])    "
   ]
  },
  {
   "cell_type": "code",
   "execution_count": 25,
   "id": "57368d4c-f3db-410b-bf2d-5c298bc0bdcc",
   "metadata": {},
   "outputs": [
    {
     "name": "stdout",
     "output_type": "stream",
     "text": [
      "45 unique values for X0 in ['train'] [32 46 10 52  6 51 34 36 48 45 40 50 24 37 23 41  9 49 31 15 38 30 11 18\n",
      " 35 26 17 19  0 22 16 25  4 43 12 47 39 29  8 44 21 28 14 33  2]\n",
      "____________________________________________________________________________________________________________\n",
      "43 unique values for X0 in ['validation'] [46 10 15 23 52  9 41 50 14 26 51 49 45 32 36 38 30 35 22 47 40 24 34  8\n",
      "  6 11 19 39 16 18 12 21 37 48 31  4 25  0 44 17  1  3 29]\n",
      "____________________________________________________________________________________________________________\n",
      "27 unique values for X1 in ['train'] [13  3 24 20 23  1 14 19  0 15 16  4  9 10 26 11  7 22  6  8 21 25 12 17\n",
      "  2 18  5]\n",
      "____________________________________________________________________________________________________________\n",
      "26 unique values for X1 in ['validation'] [ 3 20 13 19  1  9 23  4 10  0  7 26 24 15 25 16  6 21  5 17 14 22 11 12\n",
      "  8  2]\n",
      "____________________________________________________________________________________________________________\n",
      "42 unique values for X2 in ['train'] [ 5 48 11  9 19 42 29 44 37 47 25 20  0 30 43 41 31 28 38 23 26 17 35 22\n",
      " 33  7  8 49 16  3 21 14 40 15 18 12 36 32 13  6 39  1]\n",
      "____________________________________________________________________________________________________________\n",
      "36 unique values for X2 in ['validation'] [ 9 19 43 49 11  5 33 25 42  7 37  0 17 27 38 15 29 44 26  8 40 30 28  3\n",
      " 12 31 16 41 47 32 48 35 20 34 23 22]\n",
      "____________________________________________________________________________________________________________\n",
      "7 unique values for X3 in ['train'] [5 3 2 0 6 4 1]\n",
      "____________________________________________________________________________________________________________\n",
      "7 unique values for X3 in ['validation'] [0 2 5 6 4 1 3]\n",
      "____________________________________________________________________________________________________________\n",
      "4 unique values for X4 in ['train'] [3 0 1 2]\n",
      "____________________________________________________________________________________________________________\n",
      "1 unique values for X4 in ['validation'] [3]\n",
      "____________________________________________________________________________________________________________\n",
      "29 unique values for X5 in ['train'] [ 4 11 25  3 29  6 23  1 15 19 28 18  7 17 20 24 27  5  2 22  8 10 12 16\n",
      " 21 30 13 14 31]\n",
      "____________________________________________________________________________________________________________\n",
      "24 unique values for X5 in ['validation'] [10  5 28  1 19 20 11 23 17 15 25 29  4 22 18 24  2  3  6 16  7 12  8 21]\n",
      "____________________________________________________________________________________________________________\n",
      "12 unique values for X6 in ['train'] [ 6  9  8  3  0 11 10  7  1  2  5  4]\n",
      "____________________________________________________________________________________________________________\n",
      "12 unique values for X6 in ['validation'] [11  9  6  8  3  7  0  5  2  1 10  4]\n",
      "____________________________________________________________________________________________________________\n",
      "25 unique values for X8 in ['train'] [ 5 15  1 16  8 21 12  9  3 19  7  4 18 14  6 13 23 20 11  0 10 24 17  2\n",
      " 22]\n",
      "____________________________________________________________________________________________________________\n",
      "25 unique values for X8 in ['validation'] [ 7  3 13  9 11  4 12 21 18  0  2  1 17 24 22 23 10  8  5 20 16 19 15  6\n",
      " 14]\n",
      "____________________________________________________________________________________________________________\n"
     ]
    }
   ],
   "source": [
    "# Verify that the Label Encoding had been applied to the Categorical features\n",
    "for col in cat_cols:\n",
    "    print(X_train[col].nunique(), 'unique values for', col, 'in [\\'train\\']', X_train[col].unique())\n",
    "    print('_'*108)\n",
    "    print(X_val[col].nunique(), 'unique values for', col, 'in [\\'validation\\']', X_val[col].unique())\n",
    "    print('_'*108)"
   ]
  },
  {
   "cell_type": "code",
   "execution_count": 26,
   "id": "6b77314c-babd-4d79-84e0-5d2b0d76c97e",
   "metadata": {},
   "outputs": [
    {
     "name": "stdout",
     "output_type": "stream",
     "text": [
      "Column X0 values: [32 46 10 ... 10 46 52]\n"
     ]
    },
    {
     "data": {
      "text/plain": [
       "array(['f', 't', 'ak', ..., 'ak', 't', 'z'], dtype='<U2')"
      ]
     },
     "execution_count": 26,
     "metadata": {},
     "output_type": "execute_result"
    }
   ],
   "source": [
    "print('Column X0 values:', X_train['X0'].values)\n",
    "\n",
    "# Verify that the encoding can be transform back to the original values\n",
    "label_encoder_dict.get('X0').inverse_transform(X_train['X0'])"
   ]
  },
  {
   "cell_type": "markdown",
   "id": "bdd25637-914b-4e06-a79d-bfd2175804d9",
   "metadata": {},
   "source": [
    "***\n",
    "- Each column of the categorical features have been transformed using the `sklearn.preprocessing.LabelEncoder`\n",
    "- Since each of the categorical features have to be encoded separately, I still have not found a way to generalize the process so it could be use in a pipeline.\n",
    "- This process will be defined in a function to be used for new data before running the pipeline later.\n",
    "- For now, we transform both the [`train`] and [`test`] dataset with the LabelEncoder here and will not add the process in the pipeline or run it before running the pipeline.\n",
    "***\n",
    "#### Visualize the Correlation of the Categorical Features against the Target Variable, y\n",
    "- Plot a heapmap to show the correlation"
   ]
  },
  {
   "cell_type": "code",
   "execution_count": 27,
   "id": "10dcd35d-4fea-4423-beb0-841f66c50548",
   "metadata": {},
   "outputs": [
    {
     "data": {
      "text/plain": [
       "<AxesSubplot:>"
      ]
     },
     "execution_count": 27,
     "metadata": {},
     "output_type": "execute_result"
    },
    {
     "data": {
      "image/png": "[encoded data removed]",
      "text/plain": [
       "<Figure size 720x432 with 2 Axes>"
      ]
     },
     "metadata": {
      "needs_background": "light"
     },
     "output_type": "display_data"
    }
   ],
   "source": [
    "corr_df = X_train[X_train.columns[1:9]]\n",
    "corr_df.insert(0, 'y', y_train)\n",
    "corr_matrix = corr_df.corr(method='pearson')\n",
    "\n",
    "# Display the correlation matrix in a heatmap\n",
    "plt.figure(figsize= (10,6))\n",
    "sns.heatmap(corr_matrix, annot=True)"
   ]
  },
  {
   "cell_type": "markdown",
   "id": "ea4a46fb-1fc1-4729-ad69-a37802b4d9a8",
   "metadata": {},
   "source": [
    "***\n",
    "- It looks like there are no obvious correlations between the categorical features and the target variable, y.\n",
    "***\n",
    "#### Deal with Outliers\n",
    "- Use `feature_engine.outliers.Winsorizer` to cap outliers for the categorical features in the dataset using IQR capping method"
   ]
  },
  {
   "cell_type": "code",
   "execution_count": 28,
   "id": "0f7f146c-6e31-4258-9b4f-222f6690c007",
   "metadata": {},
   "outputs": [
    {
     "name": "stdout",
     "output_type": "stream",
     "text": [
      "Dealing with outlier for the categorical features: ['X0', 'X1', 'X2', 'X3', 'X4', 'X5', 'X6', 'X8']\n"
     ]
    }
   ],
   "source": [
    "# Winsorizer() caps maximum and / or minimum values of a variable\n",
    "\n",
    "from feature_engine.outliers import Winsorizer\n",
    "\n",
    "print('Dealing with outlier for the categorical features:', cat_cols)\n",
    "\n",
    "capper = Winsorizer(capping_method='iqr', tail='both', variables=cat_cols)\n",
    "\n",
    "capper.fit(X_train)\n",
    "X_train_cap = capper.transform(X_train)\n",
    "X_val_cap = capper.transform(X_val)"
   ]
  },
  {
   "cell_type": "markdown",
   "id": "232ca0ce-3514-4583-813b-bfa4f7922cf6",
   "metadata": {},
   "source": [
    "***\n",
    "## Feature Selection\n",
    "#### Drop [`ID`]\n",
    "- Use `feature_engine.selection.DropFeatures` to drop the ordinal [`ID`] variable"
   ]
  },
  {
   "cell_type": "code",
   "execution_count": 29,
   "id": "87c19d95-3544-4956-885a-da2bc1473982",
   "metadata": {},
   "outputs": [
    {
     "data": {
      "text/html": [
       "<div>\n",
       "<style scoped>\n",
       "    .dataframe tbody tr th:only-of-type {\n",
       "        vertical-align: middle;\n",
       "    }\n",
       "\n",
       "    .dataframe tbody tr th {\n",
       "        vertical-align: top;\n",
       "    }\n",
       "\n",
       "    .dataframe thead th {\n",
       "        text-align: right;\n",
       "    }\n",
       "</style>\n",
       "<table border=\"1\" class=\"dataframe\">\n",
       "  <thead>\n",
       "    <tr style=\"text-align: right;\">\n",
       "      <th></th>\n",
       "      <th>X0</th>\n",
       "      <th>X1</th>\n",
       "      <th>X2</th>\n",
       "      <th>X3</th>\n",
       "      <th>X4</th>\n",
       "      <th>X5</th>\n",
       "      <th>X6</th>\n",
       "      <th>X8</th>\n",
       "      <th>X10</th>\n",
       "      <th>X11</th>\n",
       "      <th>...</th>\n",
       "      <th>X375</th>\n",
       "      <th>X376</th>\n",
       "      <th>X377</th>\n",
       "      <th>X378</th>\n",
       "      <th>X379</th>\n",
       "      <th>X380</th>\n",
       "      <th>X382</th>\n",
       "      <th>X383</th>\n",
       "      <th>X384</th>\n",
       "      <th>X385</th>\n",
       "    </tr>\n",
       "  </thead>\n",
       "  <tbody>\n",
       "    <tr>\n",
       "      <th>1595</th>\n",
       "      <td>32.0</td>\n",
       "      <td>13.0</td>\n",
       "      <td>5.0</td>\n",
       "      <td>5.0</td>\n",
       "      <td>3.0</td>\n",
       "      <td>4.0</td>\n",
       "      <td>6.0</td>\n",
       "      <td>5.0</td>\n",
       "      <td>0</td>\n",
       "      <td>0</td>\n",
       "      <td>...</td>\n",
       "      <td>0</td>\n",
       "      <td>0</td>\n",
       "      <td>0</td>\n",
       "      <td>0</td>\n",
       "      <td>0</td>\n",
       "      <td>0</td>\n",
       "      <td>0</td>\n",
       "      <td>0</td>\n",
       "      <td>0</td>\n",
       "      <td>0</td>\n",
       "    </tr>\n",
       "    <tr>\n",
       "      <th>424</th>\n",
       "      <td>46.0</td>\n",
       "      <td>3.0</td>\n",
       "      <td>48.0</td>\n",
       "      <td>3.0</td>\n",
       "      <td>3.0</td>\n",
       "      <td>11.0</td>\n",
       "      <td>9.0</td>\n",
       "      <td>15.0</td>\n",
       "      <td>0</td>\n",
       "      <td>0</td>\n",
       "      <td>...</td>\n",
       "      <td>0</td>\n",
       "      <td>0</td>\n",
       "      <td>0</td>\n",
       "      <td>0</td>\n",
       "      <td>0</td>\n",
       "      <td>1</td>\n",
       "      <td>0</td>\n",
       "      <td>0</td>\n",
       "      <td>0</td>\n",
       "      <td>0</td>\n",
       "    </tr>\n",
       "    <tr>\n",
       "      <th>3244</th>\n",
       "      <td>10.0</td>\n",
       "      <td>24.0</td>\n",
       "      <td>11.0</td>\n",
       "      <td>2.0</td>\n",
       "      <td>3.0</td>\n",
       "      <td>25.0</td>\n",
       "      <td>6.0</td>\n",
       "      <td>1.0</td>\n",
       "      <td>0</td>\n",
       "      <td>0</td>\n",
       "      <td>...</td>\n",
       "      <td>1</td>\n",
       "      <td>0</td>\n",
       "      <td>0</td>\n",
       "      <td>0</td>\n",
       "      <td>0</td>\n",
       "      <td>0</td>\n",
       "      <td>0</td>\n",
       "      <td>0</td>\n",
       "      <td>0</td>\n",
       "      <td>0</td>\n",
       "    </tr>\n",
       "    <tr>\n",
       "      <th>1283</th>\n",
       "      <td>52.0</td>\n",
       "      <td>3.0</td>\n",
       "      <td>9.0</td>\n",
       "      <td>2.0</td>\n",
       "      <td>3.0</td>\n",
       "      <td>3.0</td>\n",
       "      <td>9.0</td>\n",
       "      <td>16.0</td>\n",
       "      <td>0</td>\n",
       "      <td>0</td>\n",
       "      <td>...</td>\n",
       "      <td>0</td>\n",
       "      <td>0</td>\n",
       "      <td>1</td>\n",
       "      <td>0</td>\n",
       "      <td>0</td>\n",
       "      <td>0</td>\n",
       "      <td>0</td>\n",
       "      <td>0</td>\n",
       "      <td>0</td>\n",
       "      <td>0</td>\n",
       "    </tr>\n",
       "    <tr>\n",
       "      <th>4055</th>\n",
       "      <td>6.0</td>\n",
       "      <td>20.0</td>\n",
       "      <td>19.0</td>\n",
       "      <td>3.0</td>\n",
       "      <td>3.0</td>\n",
       "      <td>29.0</td>\n",
       "      <td>8.0</td>\n",
       "      <td>16.0</td>\n",
       "      <td>0</td>\n",
       "      <td>0</td>\n",
       "      <td>...</td>\n",
       "      <td>1</td>\n",
       "      <td>0</td>\n",
       "      <td>0</td>\n",
       "      <td>0</td>\n",
       "      <td>0</td>\n",
       "      <td>0</td>\n",
       "      <td>0</td>\n",
       "      <td>0</td>\n",
       "      <td>0</td>\n",
       "      <td>0</td>\n",
       "    </tr>\n",
       "  </tbody>\n",
       "</table>\n",
       "<p>5 rows × 376 columns</p>\n",
       "</div>"
      ],
      "text/plain": [
       "        X0    X1    X2   X3   X4    X5   X6    X8  X10  X11  ...  X375  X376  \\\n",
       "1595  32.0  13.0   5.0  5.0  3.0   4.0  6.0   5.0    0    0  ...     0     0   \n",
       "424   46.0   3.0  48.0  3.0  3.0  11.0  9.0  15.0    0    0  ...     0     0   \n",
       "3244  10.0  24.0  11.0  2.0  3.0  25.0  6.0   1.0    0    0  ...     1     0   \n",
       "1283  52.0   3.0   9.0  2.0  3.0   3.0  9.0  16.0    0    0  ...     0     0   \n",
       "4055   6.0  20.0  19.0  3.0  3.0  29.0  8.0  16.0    0    0  ...     1     0   \n",
       "\n",
       "      X377  X378  X379  X380  X382  X383  X384  X385  \n",
       "1595     0     0     0     0     0     0     0     0  \n",
       "424      0     0     0     1     0     0     0     0  \n",
       "3244     0     0     0     0     0     0     0     0  \n",
       "1283     1     0     0     0     0     0     0     0  \n",
       "4055     0     0     0     0     0     0     0     0  \n",
       "\n",
       "[5 rows x 376 columns]"
      ]
     },
     "execution_count": 29,
     "metadata": {},
     "output_type": "execute_result"
    }
   ],
   "source": [
    "from feature_engine.selection import DropFeatures\n",
    "\n",
    "drop_sel = DropFeatures('ID')\n",
    "drop_sel.fit(X_train_cap)\n",
    "\n",
    "X_train_df = drop_sel.transform(X_train_cap)\n",
    "X_val_df = drop_sel.transform(X_val_cap)\n",
    "\n",
    "X_train_df.head()"
   ]
  },
  {
   "cell_type": "code",
   "execution_count": 30,
   "id": "1c8c375e-d8a3-4dc3-816f-9e5bdc73b8bc",
   "metadata": {},
   "outputs": [
    {
     "name": "stdout",
     "output_type": "stream",
     "text": [
      "Columns with 1 unique value:\n",
      " 19\n",
      "Columns with 1 unique value:\n",
      " 41\n"
     ]
    }
   ],
   "source": [
    "print('Columns with 1 unique value:\\n', len(list(X_train_df.columns[X_train_df.nunique().values < 2])))\n",
    "print('Columns with 1 unique value:\\n', len(list(X_val_df.columns[X_val_df.nunique().values < 2])))"
   ]
  },
  {
   "cell_type": "markdown",
   "id": "688c402c-25d9-411f-974e-9aa5e438b490",
   "metadata": {},
   "source": [
    "***\n",
    "### Remove variable(s) with variance equal to zero\n",
    "- Use the VarianceThreshold in sklearn.feature_selection to remove the columns with zero variance"
   ]
  },
  {
   "cell_type": "code",
   "execution_count": 31,
   "id": "49d433f8-7253-4954-9062-f06c5cae19a0",
   "metadata": {},
   "outputs": [
    {
     "name": "stdout",
     "output_type": "stream",
     "text": [
      "X_train dimension before and after removing zero variance: (3153, 376) (3153, 357)\n",
      "X_train dimension before and after removing zero variance: (1052, 376) (1052, 357)\n"
     ]
    }
   ],
   "source": [
    "# Use sklearn.feature_selection.VarianceThreshold to remove zero variance\n",
    "from sklearn.feature_selection import VarianceThreshold\n",
    "from feature_engine.wrappers import SklearnTransformerWrapper\n",
    "\n",
    "vt_selector = SklearnTransformerWrapper(transformer = VarianceThreshold())\n",
    "vt_selector.fit(X_train_df)\n",
    "\n",
    "X_train_var = vt_selector.transform(X_train_df)\n",
    "X_val_var = vt_selector.transform(X_val_df)\n",
    "\n",
    "print('X_train dimension before and after removing zero variance:', X_train_df.shape, X_train_var.shape)\n",
    "print('X_train dimension before and after removing zero variance:', X_val_df.shape, X_val_var.shape)"
   ]
  },
  {
   "cell_type": "markdown",
   "id": "2485e884-1125-42ed-b601-4a28d4476a88",
   "metadata": {},
   "source": [
    "***\n",
    "- 19 features with zero variance had been removed from the [`X_train`] dataset\n",
    "- Although the [`X_val`] dataset have 41 features wtih zero variance, only 19 of the features trained (fit) with the [`X_train`] dataset had been removed from the [`X_val`] dataset\n",
    "***\n",
    "### Remove Duplicates Features from the Datasets\n",
    "- Use `feature_engine.selection.DropDuplicateFeatures` to remove any duplicates from the datasets"
   ]
  },
  {
   "cell_type": "code",
   "execution_count": 32,
   "id": "845a3dc3-94b9-4b75-97d2-54d4b794c150",
   "metadata": {},
   "outputs": [
    {
     "name": "stdout",
     "output_type": "stream",
     "text": [
      "52 duplicate features to drop\n",
      "{'X248', 'X147', 'X260', 'X324', 'X84', 'X199', 'X94', 'X226', 'X227', 'X217', 'X254', 'X239', 'X296', 'X364', 'X213', 'X320', 'X102', 'X245', 'X244', 'X249', 'X266', 'X35', 'X382', 'X279', 'X129', 'X172', 'X302', 'X253', 'X216', 'X247', 'X365', 'X37', 'X326', 'X39', 'X243', 'X119', 'X360', 'X214', 'X122', 'X134', 'X242', 'X222', 'X263', 'X299', 'X232', 'X385', 'X90', 'X146', 'X113', 'X76', 'X262', 'X54'}\n",
      "X_train: (3153, 305) (3153, 357) X_val: (1052, 305) (1052, 357)\n"
     ]
    }
   ],
   "source": [
    "from feature_engine.selection import DropDuplicateFeatures\n",
    "\n",
    "duplicates = DropDuplicateFeatures()\n",
    "duplicates.fit(X_train_var)\n",
    "\n",
    "print(len(duplicates.features_to_drop_), 'duplicate features to drop')\n",
    "print(duplicates.features_to_drop_)\n",
    "\n",
    "X_train_dup = duplicates.transform(X_train_var)\n",
    "X_val_dup = duplicates.transform(X_val_var)\n",
    "\n",
    "print('X_train:', X_train_dup.shape, X_train_var.shape, 'X_val:', X_val_dup.shape, X_val_var.shape)"
   ]
  },
  {
   "cell_type": "markdown",
   "id": "96759e9d-3074-4a47-a9ec-94742856d3a0",
   "metadata": {},
   "source": [
    "***\n",
    "- 52 duplicated features to be dropped from the datasets\n",
    "- After dropping the duplicated features, [`X_train`] has 305 features remaining.\n",
    "- Similarly, since the model was trained with the [`X_train`] dataset, the 52 duplicated features were also dropped from the [`X_val`] dataset\n",
    "***\n",
    "### Scale the data before applying PCA Dimensionality Reduction\n",
    "- Use sklearn.preprocessing.StandardScaler to standardize features by removing the mean and scaling to unit variance."
   ]
  },
  {
   "cell_type": "code",
   "execution_count": 33,
   "id": "e1084a13-4267-4aa3-a62e-3de4417e63ae",
   "metadata": {},
   "outputs": [
    {
     "data": {
      "text/html": [
       "<div>\n",
       "<style scoped>\n",
       "    .dataframe tbody tr th:only-of-type {\n",
       "        vertical-align: middle;\n",
       "    }\n",
       "\n",
       "    .dataframe tbody tr th {\n",
       "        vertical-align: top;\n",
       "    }\n",
       "\n",
       "    .dataframe thead th {\n",
       "        text-align: right;\n",
       "    }\n",
       "</style>\n",
       "<table border=\"1\" class=\"dataframe\">\n",
       "  <thead>\n",
       "    <tr style=\"text-align: right;\">\n",
       "      <th></th>\n",
       "      <th>X0</th>\n",
       "      <th>X1</th>\n",
       "      <th>X2</th>\n",
       "      <th>X3</th>\n",
       "      <th>X5</th>\n",
       "      <th>X6</th>\n",
       "      <th>X8</th>\n",
       "      <th>X10</th>\n",
       "      <th>X12</th>\n",
       "      <th>X13</th>\n",
       "      <th>...</th>\n",
       "      <th>X373</th>\n",
       "      <th>X374</th>\n",
       "      <th>X375</th>\n",
       "      <th>X376</th>\n",
       "      <th>X377</th>\n",
       "      <th>X378</th>\n",
       "      <th>X379</th>\n",
       "      <th>X380</th>\n",
       "      <th>X383</th>\n",
       "      <th>X384</th>\n",
       "    </tr>\n",
       "  </thead>\n",
       "  <tbody>\n",
       "    <tr>\n",
       "      <th>1595</th>\n",
       "      <td>-0.163426</td>\n",
       "      <td>0.219915</td>\n",
       "      <td>-1.321551</td>\n",
       "      <td>1.220125</td>\n",
       "      <td>-1.270507</td>\n",
       "      <td>-0.271866</td>\n",
       "      <td>-0.926364</td>\n",
       "      <td>-0.116192</td>\n",
       "      <td>-0.288973</td>\n",
       "      <td>-0.253936</td>\n",
       "      <td>...</td>\n",
       "      <td>-0.142788</td>\n",
       "      <td>1.861721</td>\n",
       "      <td>-0.681020</td>\n",
       "      <td>-0.243146</td>\n",
       "      <td>-0.685514</td>\n",
       "      <td>-0.14394</td>\n",
       "      <td>-0.104408</td>\n",
       "      <td>-0.092937</td>\n",
       "      <td>-0.043664</td>\n",
       "      <td>-0.025194</td>\n",
       "    </tr>\n",
       "    <tr>\n",
       "      <th>424</th>\n",
       "      <td>0.761322</td>\n",
       "      <td>-0.956321</td>\n",
       "      <td>2.352092</td>\n",
       "      <td>0.066413</td>\n",
       "      <td>-0.476247</td>\n",
       "      <td>0.753486</td>\n",
       "      <td>0.489931</td>\n",
       "      <td>-0.116192</td>\n",
       "      <td>-0.288973</td>\n",
       "      <td>-0.253936</td>\n",
       "      <td>...</td>\n",
       "      <td>-0.142788</td>\n",
       "      <td>-0.537137</td>\n",
       "      <td>-0.681020</td>\n",
       "      <td>-0.243146</td>\n",
       "      <td>-0.685514</td>\n",
       "      <td>-0.14394</td>\n",
       "      <td>-0.104408</td>\n",
       "      <td>10.760008</td>\n",
       "      <td>-0.043664</td>\n",
       "      <td>-0.025194</td>\n",
       "    </tr>\n",
       "    <tr>\n",
       "      <th>3244</th>\n",
       "      <td>-1.616602</td>\n",
       "      <td>1.513773</td>\n",
       "      <td>-0.808950</td>\n",
       "      <td>-0.510444</td>\n",
       "      <td>1.112274</td>\n",
       "      <td>-0.271866</td>\n",
       "      <td>-1.492882</td>\n",
       "      <td>-0.116192</td>\n",
       "      <td>3.460536</td>\n",
       "      <td>-0.253936</td>\n",
       "      <td>...</td>\n",
       "      <td>-0.142788</td>\n",
       "      <td>-0.537137</td>\n",
       "      <td>1.468386</td>\n",
       "      <td>-0.243146</td>\n",
       "      <td>-0.685514</td>\n",
       "      <td>-0.14394</td>\n",
       "      <td>-0.104408</td>\n",
       "      <td>-0.092937</td>\n",
       "      <td>-0.043664</td>\n",
       "      <td>-0.025194</td>\n",
       "    </tr>\n",
       "    <tr>\n",
       "      <th>1283</th>\n",
       "      <td>1.157643</td>\n",
       "      <td>-0.956321</td>\n",
       "      <td>-0.979817</td>\n",
       "      <td>-0.510444</td>\n",
       "      <td>-1.383972</td>\n",
       "      <td>0.753486</td>\n",
       "      <td>0.631561</td>\n",
       "      <td>-0.116192</td>\n",
       "      <td>-0.288973</td>\n",
       "      <td>-0.253936</td>\n",
       "      <td>...</td>\n",
       "      <td>-0.142788</td>\n",
       "      <td>-0.537137</td>\n",
       "      <td>-0.681020</td>\n",
       "      <td>-0.243146</td>\n",
       "      <td>1.458758</td>\n",
       "      <td>-0.14394</td>\n",
       "      <td>-0.104408</td>\n",
       "      <td>-0.092937</td>\n",
       "      <td>-0.043664</td>\n",
       "      <td>-0.025194</td>\n",
       "    </tr>\n",
       "    <tr>\n",
       "      <th>4055</th>\n",
       "      <td>-1.880816</td>\n",
       "      <td>1.043279</td>\n",
       "      <td>-0.125481</td>\n",
       "      <td>0.066413</td>\n",
       "      <td>1.566136</td>\n",
       "      <td>0.411702</td>\n",
       "      <td>0.631561</td>\n",
       "      <td>-0.116192</td>\n",
       "      <td>-0.288973</td>\n",
       "      <td>-0.253936</td>\n",
       "      <td>...</td>\n",
       "      <td>-0.142788</td>\n",
       "      <td>-0.537137</td>\n",
       "      <td>1.468386</td>\n",
       "      <td>-0.243146</td>\n",
       "      <td>-0.685514</td>\n",
       "      <td>-0.14394</td>\n",
       "      <td>-0.104408</td>\n",
       "      <td>-0.092937</td>\n",
       "      <td>-0.043664</td>\n",
       "      <td>-0.025194</td>\n",
       "    </tr>\n",
       "  </tbody>\n",
       "</table>\n",
       "<p>5 rows × 305 columns</p>\n",
       "</div>"
      ],
      "text/plain": [
       "            X0        X1        X2        X3        X5        X6        X8  \\\n",
       "1595 -0.163426  0.219915 -1.321551  1.220125 -1.270507 -0.271866 -0.926364   \n",
       "424   0.761322 -0.956321  2.352092  0.066413 -0.476247  0.753486  0.489931   \n",
       "3244 -1.616602  1.513773 -0.808950 -0.510444  1.112274 -0.271866 -1.492882   \n",
       "1283  1.157643 -0.956321 -0.979817 -0.510444 -1.383972  0.753486  0.631561   \n",
       "4055 -1.880816  1.043279 -0.125481  0.066413  1.566136  0.411702  0.631561   \n",
       "\n",
       "           X10       X12       X13  ...      X373      X374      X375  \\\n",
       "1595 -0.116192 -0.288973 -0.253936  ... -0.142788  1.861721 -0.681020   \n",
       "424  -0.116192 -0.288973 -0.253936  ... -0.142788 -0.537137 -0.681020   \n",
       "3244 -0.116192  3.460536 -0.253936  ... -0.142788 -0.537137  1.468386   \n",
       "1283 -0.116192 -0.288973 -0.253936  ... -0.142788 -0.537137 -0.681020   \n",
       "4055 -0.116192 -0.288973 -0.253936  ... -0.142788 -0.537137  1.468386   \n",
       "\n",
       "          X376      X377     X378      X379       X380      X383      X384  \n",
       "1595 -0.243146 -0.685514 -0.14394 -0.104408  -0.092937 -0.043664 -0.025194  \n",
       "424  -0.243146 -0.685514 -0.14394 -0.104408  10.760008 -0.043664 -0.025194  \n",
       "3244 -0.243146 -0.685514 -0.14394 -0.104408  -0.092937 -0.043664 -0.025194  \n",
       "1283 -0.243146  1.458758 -0.14394 -0.104408  -0.092937 -0.043664 -0.025194  \n",
       "4055 -0.243146 -0.685514 -0.14394 -0.104408  -0.092937 -0.043664 -0.025194  \n",
       "\n",
       "[5 rows x 305 columns]"
      ]
     },
     "execution_count": 33,
     "metadata": {},
     "output_type": "execute_result"
    }
   ],
   "source": [
    "from sklearn.preprocessing import StandardScaler\n",
    "from feature_engine.wrappers import SklearnTransformerWrapper\n",
    "\n",
    "scaler = SklearnTransformerWrapper(transformer = StandardScaler())\n",
    "scaler.fit(X_train_dup)\n",
    "X_train_scaled = scaler.transform(X_train_dup)\n",
    "X_val_scaled = scaler.transform(X_val_dup)\n",
    "\n",
    "X_train_scaled.head()"
   ]
  },
  {
   "cell_type": "markdown",
   "id": "2b590330-1f75-41be-82d5-c096a210f023",
   "metadata": {},
   "source": [
    "### Perform Dimensionality Reduction.\n",
    "- Use `sklearn.decompositio.PCA` to perform dimensionality reduction"
   ]
  },
  {
   "cell_type": "code",
   "execution_count": 34,
   "id": "e202981b-ed07-4912-b096-7f1f699d06c3",
   "metadata": {},
   "outputs": [],
   "source": [
    "from sklearn.decomposition import PCA\n",
    "\n",
    "pca = PCA(n_components=0.95)\n",
    "pca.fit(X_train_scaled)\n",
    "\n",
    "df_train_reduced = pca.transform(X_train_scaled)\n",
    "df_val_reduced = pca.transform(X_val_scaled)"
   ]
  },
  {
   "cell_type": "code",
   "execution_count": 35,
   "id": "b4d83969-ca1f-4e3b-b72c-8cfbc1d3cde9",
   "metadata": {},
   "outputs": [
    {
     "name": "stdout",
     "output_type": "stream",
     "text": [
      "There are 144 features remaining after performing PCA\n",
      "\n"
     ]
    },
    {
     "data": {
      "image/png": "[encoded data removed]",
      "text/plain": [
       "<Figure size 504x288 with 1 Axes>"
      ]
     },
     "metadata": {
      "needs_background": "light"
     },
     "output_type": "display_data"
    }
   ],
   "source": [
    "cumsum = np.cumsum(pca.explained_variance_ratio_)\n",
    "d = np.argmax(cumsum >= 0.95) + 1\n",
    "print('There are', d, 'features remaining after performing PCA\\n')\n",
    "\n",
    "# Plot the graph to show the 'Explained Variance as a Function of the Number of Dimension'\n",
    "fig, axes = plt.subplots(figsize=(7, 4))\n",
    "axes.plot(cumsum)\n",
    "axes.axhline(y=0.95, linestyle='--', color='green')\n",
    "fig.suptitle('Explained Variance as a Function of the Number of Dimensions', fontsize=15)\n",
    "axes.set_xlabel('Dimensions', fontsize=12)\n",
    "axes.set_ylabel('Explained Variance', fontsize=12)\n",
    "axes.grid()"
   ]
  },
  {
   "cell_type": "markdown",
   "id": "bb1d18b1-c6df-46df-b8b3-a6b387219e39",
   "metadata": {},
   "source": [
    "***\n",
    "- PCA dimensionality reduction reduces the features from 305 to 144\n",
    "***"
   ]
  },
  {
   "cell_type": "markdown",
   "id": "afa6ef5b-7419-4e71-a7a5-d62f70ee889a",
   "metadata": {},
   "source": [
    "## Train the datasets with XGBoost\n",
    "- Use `xgboost.XGBRegressor` to train the [`X_train`] data"
   ]
  },
  {
   "cell_type": "code",
   "execution_count": 36,
   "id": "6e6d952d-a7c5-42fc-9fbe-5ec06c609a22",
   "metadata": {},
   "outputs": [],
   "source": [
    "#!pip install xgboost"
   ]
  },
  {
   "cell_type": "code",
   "execution_count": 37,
   "id": "5cefa59a-836a-4cf3-8f3c-2293e4c6145f",
   "metadata": {},
   "outputs": [
    {
     "data": {
      "text/plain": [
       "array([ 88.577995, 123.06039 , 119.99813 , ...,  79.47509 , 102.67846 ,\n",
       "        99.411255], dtype=float32)"
      ]
     },
     "execution_count": 37,
     "metadata": {},
     "output_type": "execute_result"
    }
   ],
   "source": [
    "from xgboost import XGBRegressor\n",
    "\n",
    "xgb_reg = XGBRegressor()\n",
    "xgb_reg.fit(df_train_reduced, y_train)\n",
    "y_pred = xgb_reg.predict(df_val_reduced)\n",
    "y_pred"
   ]
  },
  {
   "cell_type": "code",
   "execution_count": 38,
   "id": "eed8d328-a8b5-4abc-b3f4-fb27c02f6468",
   "metadata": {},
   "outputs": [
    {
     "name": "stdout",
     "output_type": "stream",
     "text": [
      "RMSE: 9.302950562448684 | R2 Score: 0.38834029142929394\n"
     ]
    }
   ],
   "source": [
    "from sklearn.metrics import r2_score, mean_squared_error\n",
    "from math import sqrt\n",
    "\n",
    "rmse = sqrt(mean_squared_error(y_val, y_pred))\n",
    "r2 = r2_score(y_val, y_pred)\n",
    "print('RMSE:', rmse, '| R2 Score:', r2)"
   ]
  },
  {
   "cell_type": "markdown",
   "id": "dee8b9ee-912e-4970-a131-366052e6dde4",
   "metadata": {},
   "source": [
    "***\n",
    "- r2 score for XGBoost using the default parameters showed that only 39% of observations can be explained by the model\n",
    "- To improve on the performance of the model, perform parameter tuning to find the best parameters to use with the model \n",
    "***\n",
    "### Parameter Tuning\n",
    "- Use `sklearn.model_selection.GridSearchCV` to find the best parameters that could improve the r2 score\n",
    "- After conducting several trial-and-error, below shows the parameters used for tuning"
   ]
  },
  {
   "cell_type": "code",
   "execution_count": 39,
   "id": "57583b89-df80-4af7-a207-3772aa6cc838",
   "metadata": {},
   "outputs": [
    {
     "name": "stdout",
     "output_type": "stream",
     "text": [
      "Best Params:  {'learning_rate': 0.02, 'max_depth': 3, 'n_estimators': 750}\n"
     ]
    }
   ],
   "source": [
    "from sklearn.model_selection import GridSearchCV, KFold\n",
    "\n",
    "#Hyper Parameter Tunnig \n",
    "parameters = {\n",
    "    'learning_rate': [0.015, 0.02],\n",
    "    'n_estimators': [750, 800],\n",
    "    'max_depth': [3, 4]\n",
    "}\n",
    "\n",
    "gscv = GridSearchCV(estimator=xgb_reg, param_grid=parameters, \n",
    "                    scoring='r2', verbose=0, n_jobs=5)\n",
    "\n",
    "gridsearch_result = gscv.fit(df_train_reduced, y_train)\n",
    "print('Best Params: ', gridsearch_result.best_params_)"
   ]
  },
  {
   "cell_type": "code",
   "execution_count": 40,
   "id": "26a55a0d-150d-4273-b108-6efc44bdbc05",
   "metadata": {},
   "outputs": [
    {
     "name": "stdout",
     "output_type": "stream",
     "text": [
      "{'learning_rate': 0.015, 'max_depth': 3, 'n_estimators': 750} 0.5218442481719944\n",
      "{'learning_rate': 0.015, 'max_depth': 3, 'n_estimators': 800} 0.5219689599391061\n",
      "{'learning_rate': 0.015, 'max_depth': 4, 'n_estimators': 750} 0.5159695413500537\n",
      "{'learning_rate': 0.015, 'max_depth': 4, 'n_estimators': 800} 0.5154720246772373\n",
      "{'learning_rate': 0.02, 'max_depth': 3, 'n_estimators': 750} 0.5237534214676154\n",
      "{'learning_rate': 0.02, 'max_depth': 3, 'n_estimators': 800} 0.5234031664899828\n",
      "{'learning_rate': 0.02, 'max_depth': 4, 'n_estimators': 750} 0.5145345887672141\n",
      "{'learning_rate': 0.02, 'max_depth': 4, 'n_estimators': 800} 0.5131204409484384\n"
     ]
    }
   ],
   "source": [
    "gscvr = pd.DataFrame(gridsearch_result.cv_results_)\n",
    "for i in range(gscvr.shape[0]):\n",
    "    print(gscvr.loc[i,'params'], gscvr.loc[i,'mean_test_score'])   "
   ]
  },
  {
   "cell_type": "markdown",
   "id": "85257672-c517-41d2-8a97-eefe37711747",
   "metadata": {},
   "source": [
    "***\n",
    "- The best parameter from the `GridSearchCV` is: {'learning_rate': 0.02, 'max_depth': 3, 'n_estimators': 750}\n",
    "- This best parameter show that 52.37% (0.5237534214676154) of the observations can be explained by the model   \n",
    "***"
   ]
  },
  {
   "cell_type": "markdown",
   "id": "aaa2fdac-5698-4f3f-bf56-a094e3c86f85",
   "metadata": {},
   "source": [
    "## Predict your test_df values using XGBoost.\n",
    "- Perform feature engineering to encode categorical features in the [`test`] dataset\n",
    "- Perform feature selection to deal with outliers, zero variance, duplicates and scale to perform PCA (dimensionality reduction) using the predefined pipeline.\n",
    "- Create a `xgboost.XGBRegressor` with the `best_params_` result from the `GridSearchCV`.\n",
    "- Run the validation test again to check for improvement in performance\n",
    "- Predict test_df values using the new XGBoost model"
   ]
  },
  {
   "cell_type": "code",
   "execution_count": 41,
   "id": "24a45c00-1dba-4034-bb85-e6edb9f35502",
   "metadata": {},
   "outputs": [
    {
     "data": {
      "text/plain": [
       "(4209, 144)"
      ]
     },
     "execution_count": 41,
     "metadata": {},
     "output_type": "execute_result"
    }
   ],
   "source": [
    "# Import make_pipeline\n",
    "from sklearn.pipeline import make_pipeline\n",
    "\n",
    "# Use LabelEncoder to encode the categorical features in test\n",
    "for col in cat_cols:\n",
    "    # Get the LabelEncoder trained with the ['X_train'] data from the previously saved dictionary\n",
    "    label_encoder = label_encoder_dict.get(col)\n",
    "\n",
    "    test[col] = label_encoder.transform(test[col]) \n",
    "\n",
    "# Define pipeline steps\n",
    "transformer_pipe = make_pipeline(capper,\n",
    "                                 drop_sel,\n",
    "                                 vt_selector,\n",
    "                                 duplicates,\n",
    "                                 scaler,\n",
    "                                 pca\n",
    "                                 )\n",
    "\n",
    "# Perform feature engineering an selection on ['test'] data\n",
    "test_df = transformer_pipe.transform(test)\n",
    "test_df.shape"
   ]
  },
  {
   "cell_type": "markdown",
   "id": "b4d69ffb-c658-4c88-a903-4ff7d8640ac3",
   "metadata": {},
   "source": [
    "***\n",
    "#### Create the new XGBoost model with Best Parameters\n",
    "- Use `xgboost.XGBRegressor` with the best parameters found from `GridSearchCV` to setup new XGBoost model\n",
    "- The best parameters used is: {'learning_rate': 0.02, 'max_depth': 3, 'n_estimators': 750}\n",
    "- Check for improvement in the `RMSE` and `R2 Score`"
   ]
  },
  {
   "cell_type": "code",
   "execution_count": 42,
   "id": "3509a232-b678-4274-87b8-40b94752dc3c",
   "metadata": {},
   "outputs": [
    {
     "name": "stdout",
     "output_type": "stream",
     "text": [
      "RMSE: 8.1073326672532 | R2 Score: 0.53545858886518\n"
     ]
    }
   ],
   "source": [
    "# Create a new XGBoost model\n",
    "xgb = XGBRegressor(n_estimators=750, learning_rate=0.02, max_depth=3)\n",
    "\n",
    "# Train and predict the X_val data again\n",
    "xgb.fit(df_train_reduced, y_train)\n",
    "y_pred = xgb.predict(df_val_reduced)\n",
    "\n",
    "# Check for improvement with RMSE and R2 Score\n",
    "rmse = sqrt(mean_squared_error(y_val, y_pred))\n",
    "r2 = r2_score(y_val, y_pred)\n",
    "print('RMSE:', rmse, '| R2 Score:', r2)"
   ]
  },
  {
   "cell_type": "markdown",
   "id": "6699a346-92cb-4807-ac92-e08525cb4deb",
   "metadata": {},
   "source": [
    "***\n",
    "- The root-mean-square error (RMSE) is: 8.1073326672532\n",
    "- The r-squared (R2) score is: 0.53545858886518\n",
    "- This shows an improvement on the model from 0.38834029142929394 to 0.53545858886518 in the [`r2_score`]\n",
    "***\n",
    "### Predict test_df values using the new XGBoost Model\n",
    "- Use the new XGBoost model to predict the values in the [`test`] dataset\n",
    "- Save the predictions for the [`test`] data to a DataFrame for display"
   ]
  },
  {
   "cell_type": "code",
   "execution_count": 43,
   "id": "03caf7f8-5345-48b2-a5fe-eacdf06fe050",
   "metadata": {},
   "outputs": [
    {
     "data": {
      "text/plain": [
       "array([ 97.55421 , 104.367035,  96.88539 , ...,  90.99992 , 106.9379  ,\n",
       "        94.249054], dtype=float32)"
      ]
     },
     "execution_count": 43,
     "metadata": {},
     "output_type": "execute_result"
    }
   ],
   "source": [
    "# Perform predictions on the [`test`] data using the new XGBoost model\n",
    "test_df_pred = xgb.predict(test_df)\n",
    "test_df_pred"
   ]
  },
  {
   "cell_type": "code",
   "execution_count": 44,
   "id": "70a5caaf-556c-45d8-aa20-e5805d23a6f5",
   "metadata": {},
   "outputs": [
    {
     "data": {
      "text/html": [
       "<div>\n",
       "<style scoped>\n",
       "    .dataframe tbody tr th:only-of-type {\n",
       "        vertical-align: middle;\n",
       "    }\n",
       "\n",
       "    .dataframe tbody tr th {\n",
       "        vertical-align: top;\n",
       "    }\n",
       "\n",
       "    .dataframe thead th {\n",
       "        text-align: right;\n",
       "    }\n",
       "</style>\n",
       "<table border=\"1\" class=\"dataframe\">\n",
       "  <thead>\n",
       "    <tr style=\"text-align: right;\">\n",
       "      <th></th>\n",
       "      <th>y</th>\n",
       "    </tr>\n",
       "  </thead>\n",
       "  <tbody>\n",
       "    <tr>\n",
       "      <th>0</th>\n",
       "      <td>97.554207</td>\n",
       "    </tr>\n",
       "    <tr>\n",
       "      <th>1</th>\n",
       "      <td>104.367035</td>\n",
       "    </tr>\n",
       "    <tr>\n",
       "      <th>2</th>\n",
       "      <td>96.885391</td>\n",
       "    </tr>\n",
       "    <tr>\n",
       "      <th>3</th>\n",
       "      <td>82.861115</td>\n",
       "    </tr>\n",
       "    <tr>\n",
       "      <th>4</th>\n",
       "      <td>109.250046</td>\n",
       "    </tr>\n",
       "    <tr>\n",
       "      <th>5</th>\n",
       "      <td>91.567055</td>\n",
       "    </tr>\n",
       "    <tr>\n",
       "      <th>6</th>\n",
       "      <td>105.499527</td>\n",
       "    </tr>\n",
       "    <tr>\n",
       "      <th>7</th>\n",
       "      <td>94.531654</td>\n",
       "    </tr>\n",
       "    <tr>\n",
       "      <th>8</th>\n",
       "      <td>116.082001</td>\n",
       "    </tr>\n",
       "    <tr>\n",
       "      <th>9</th>\n",
       "      <td>90.784874</td>\n",
       "    </tr>\n",
       "  </tbody>\n",
       "</table>\n",
       "</div>"
      ],
      "text/plain": [
       "            y\n",
       "0   97.554207\n",
       "1  104.367035\n",
       "2   96.885391\n",
       "3   82.861115\n",
       "4  109.250046\n",
       "5   91.567055\n",
       "6  105.499527\n",
       "7   94.531654\n",
       "8  116.082001\n",
       "9   90.784874"
      ]
     },
     "execution_count": 44,
     "metadata": {},
     "output_type": "execute_result"
    }
   ],
   "source": [
    "# Save prediction into a DataFrame for display\n",
    "test_predictions = pd.DataFrame()\n",
    "test_predictions['y'] = test_df_pred\n",
    "\n",
    "# Show the first 10 results of the prediction\n",
    "test_predictions.head(10)"
   ]
  },
  {
   "cell_type": "markdown",
   "id": "99f8e4a9-6928-42e4-8702-ba5f4155cb1e",
   "metadata": {},
   "source": [
    "*********************************************************\n",
    "<p style=\"text-align: center;\">End of Project</p>"
   ]
  }
 ],
 "metadata": {
  "kernelspec": {
   "display_name": "Python 3 (ipykernel)",
   "language": "python",
   "name": "python3"
  },
  "language_info": {
   "codemirror_mode": {
    "name": "ipython",
    "version": 3
   },
   "file_extension": ".py",
   "mimetype": "text/x-python",
   "name": "python",
   "nbconvert_exporter": "python",
   "pygments_lexer": "ipython3",
   "version": "3.9.15"
  }
 },
 "nbformat": 4,
 "nbformat_minor": 5
}
