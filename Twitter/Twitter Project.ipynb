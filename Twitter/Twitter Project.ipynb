{
 "cells": [
  {
   "cell_type": "markdown",
   "id": "bf332e72-7b82-4150-8496-32bdafc824bd",
   "metadata": {},
   "source": [
    "# NLP and Speech Recognition Course-end Project 2\n",
    "# Identify hate speech (racist or sexist tweets) in Twitter\n",
    "\n",
    "### DESCRIPTION\n",
    "\n",
    "Using NLP and ML, make a model to identify hate speech (racist or sexist tweets) in Twitter.\n",
    "\n",
    "### Problem Statement:  \n",
    "\n",
    "Twitter is the biggest platform where anybody and everybody can have their views heard. Some of these voices spread hate and negativity. Twitter is wary of its platform being used as a medium  to spread hate. \n",
    "\n",
    "You are a data scientist at Twitter, and you will help Twitter in identifying the tweets with hate speech and removing them from the platform. You will use NLP techniques, perform specific cleanup for tweets data, and make a robust model.\n",
    "\n",
    "**Domain:** Social Media\n",
    "\n",
    "**Analysis to be done:** Clean up tweets and build a classification model by using NLP techniques, cleanup specific for tweets data, regularization and hyperparameter tuning using stratified k-fold and cross validation to get the best model.\n",
    "\n",
    "#### Content: \n",
    "\n",
    "id: identifier number of the tweet\n",
    "\n",
    "Label: 0 (non-hate) /1 (hate)\n",
    "\n",
    "Tweet: the text in the tweet\n",
    "\n",
    "### Tasks: \n",
    "\n",
    "1. Load the tweets file using read_csv function from Pandas package. \n",
    "2. Get the tweets into a list for easy text cleanup and manipulation.\n",
    "3. To cleanup: \n",
    "   1. Normalize the casing.\n",
    "   2. Using regular expressions, remove user handles. These begin with '@’.\n",
    "   3. Using regular expressions, remove URLs.\n",
    "   4. Using TweetTokenizer from NLTK, tokenize the tweets into individual terms.\n",
    "   5. Remove stop words.\n",
    "   6. Remove redundant terms like ‘amp’, ‘rt’, etc.\n",
    "   7. Remove ‘#’ symbols from the tweet while retaining the term.\n",
    "4. Extra cleanup by removing terms with a length of 1.\n",
    "5. Check out the top terms in the tweets:\n",
    "    1. First, get all the tokenized terms into one large list.\n",
    "    2. Use the counter and find the 10 most common terms.\n",
    "6. Data formatting for predictive modeling:\n",
    "    1. Join the tokens back to form strings. This will be required for the vectorizers.\n",
    "    2. Assign x and y.\n",
    "    3. Perform train_test_split using sklearn.\n",
    "7. We’ll use TF-IDF values for the terms as a feature to get into a vector space model.\n",
    "    1. Import TF-IDF  vectorizer from sklearn.\n",
    "    2. Instantiate with a maximum of 5000 terms in your vocabulary.\n",
    "    3. Fit and apply on the train set.\n",
    "    4. Apply on the test set.\n",
    "8. Model building: Ordinary Logistic Regression\n",
    "    1. Instantiate Logistic Regression from sklearn with default parameters.\n",
    "    2. Fit into  the train data.\n",
    "    3. Make predictions for the train and the test set.    \n",
    "9. Model evaluation: Accuracy, recall, and f_1 score.\n",
    "    1. Report the accuracy on the train set.\n",
    "    2. Report the recall on the train set: decent, high, or low.\n",
    "    3. Get the f1 score on the train set.\n",
    "10. Looks like you need to adjust the class imbalance, as the model seems to focus on the 0s.\n",
    "    1. Adjust the appropriate class in the LogisticRegression model.\n",
    "11. Train again with the adjustment and evaluate.\n",
    "    1. Train the model on the train set.\n",
    "    2. Evaluate the predictions on the train set: accuracy, recall, and f_1 score.\n",
    "12. Regularization and Hyperparameter tuning:\n",
    "    1. Import GridSearch and StratifiedKFold because of class imbalance.\n",
    "    2. Provide the parameter grid to choose for ‘C’ and ‘penalty’ parameters.\n",
    "    3. Use a balanced class weight while instantiating the logistic regression.\n",
    "13. Find the parameters with the best recall in cross-validation.\n",
    "    1. Choose ‘recall’ as the metric for scoring.\n",
    "    2. Choose a stratified 4 fold cross-validation scheme.\n",
    "    3. Fit into  the train set.\n",
    "14. What are the best parameters?\n",
    "15. Predict and evaluate using the best estimator.\n",
    "    1. Use the best estimator from the grid search to make predictions on the test set.\n",
    "    2. What is the recall on the test set for the toxic comments?\n",
    "    3. What is the f_1 score?\n"
   ]
  },
  {
   "cell_type": "code",
   "execution_count": 1,
   "id": "e9bd17eb-efa4-48d0-bdfe-16ece72ba122",
   "metadata": {},
   "outputs": [],
   "source": [
    "# import libraries\n",
    "import numpy as np\n",
    "import pandas as pd\n",
    "\n",
    "# Visualization libraries\n",
    "import matplotlib.pyplot as plt\n",
    "%matplotlib inline\n",
    "import seaborn as sns\n",
    "\n",
    "## import for natural language processing\n",
    "import nltk\n",
    "from nltk.corpus import stopwords\n",
    "from nltk.tokenize import TweetTokenizer\n",
    "from nltk.stem import WordNetLemmatizer\n",
    "from wordcloud import WordCloud\n",
    "\n",
    "# Python Libraries\n",
    "import re        # Regular Expressions\n",
    "import string    # String\n",
    "\n",
    "sbold = '\\033[1m' # Python format tag to start bold font setting\n",
    "ebold = '\\033[0m' # Python format tag to end bold font setting"
   ]
  },
  {
   "cell_type": "markdown",
   "id": "6e3fdc2f-5b1d-453f-82aa-f03f12da19ee",
   "metadata": {},
   "source": [
    "### 1. Load the tweets file using read_csv function from Pandas package"
   ]
  },
  {
   "cell_type": "code",
   "execution_count": 2,
   "id": "4ba4b753-eb2d-4a77-a7d9-d8806fd9a7e2",
   "metadata": {},
   "outputs": [
    {
     "name": "stdout",
     "output_type": "stream",
     "text": [
      "\u001b[1mNumber of tweets in the dataset:\u001b[0m 31962\n",
      "\n"
     ]
    },
    {
     "data": {
      "text/html": [
       "<div>\n",
       "<style scoped>\n",
       "    .dataframe tbody tr th:only-of-type {\n",
       "        vertical-align: middle;\n",
       "    }\n",
       "\n",
       "    .dataframe tbody tr th {\n",
       "        vertical-align: top;\n",
       "    }\n",
       "\n",
       "    .dataframe thead th {\n",
       "        text-align: right;\n",
       "    }\n",
       "</style>\n",
       "<table border=\"1\" class=\"dataframe\">\n",
       "  <thead>\n",
       "    <tr style=\"text-align: right;\">\n",
       "      <th></th>\n",
       "      <th>id</th>\n",
       "      <th>label</th>\n",
       "      <th>tweet</th>\n",
       "    </tr>\n",
       "  </thead>\n",
       "  <tbody>\n",
       "    <tr>\n",
       "      <th>0</th>\n",
       "      <td>1</td>\n",
       "      <td>0</td>\n",
       "      <td>@user when a father is dysfunctional and is s...</td>\n",
       "    </tr>\n",
       "    <tr>\n",
       "      <th>1</th>\n",
       "      <td>2</td>\n",
       "      <td>0</td>\n",
       "      <td>@user @user thanks for #lyft credit i can't us...</td>\n",
       "    </tr>\n",
       "    <tr>\n",
       "      <th>2</th>\n",
       "      <td>3</td>\n",
       "      <td>0</td>\n",
       "      <td>bihday your majesty</td>\n",
       "    </tr>\n",
       "    <tr>\n",
       "      <th>3</th>\n",
       "      <td>4</td>\n",
       "      <td>0</td>\n",
       "      <td>#model   i love u take with u all the time in ...</td>\n",
       "    </tr>\n",
       "    <tr>\n",
       "      <th>4</th>\n",
       "      <td>5</td>\n",
       "      <td>0</td>\n",
       "      <td>factsguide: society now    #motivation</td>\n",
       "    </tr>\n",
       "  </tbody>\n",
       "</table>\n",
       "</div>"
      ],
      "text/plain": [
       "   id  label                                              tweet\n",
       "0   1      0   @user when a father is dysfunctional and is s...\n",
       "1   2      0  @user @user thanks for #lyft credit i can't us...\n",
       "2   3      0                                bihday your majesty\n",
       "3   4      0  #model   i love u take with u all the time in ...\n",
       "4   5      0             factsguide: society now    #motivation"
      ]
     },
     "execution_count": 2,
     "metadata": {},
     "output_type": "execute_result"
    }
   ],
   "source": [
    "# Load the tweets file using Pandas read_csv function\n",
    "\n",
    "df_tweets = pd.read_csv(\"TwitterHate.csv\")\n",
    "\n",
    "# Display the number of records in the dataset\n",
    "print(sbold + 'Number of tweets in the dataset:' + ebold, df_tweets.shape[0])\n",
    "print()\n",
    "\n",
    "# Show the first 5 rows\n",
    "df_tweets.head()"
   ]
  },
  {
   "cell_type": "code",
   "execution_count": 3,
   "id": "49caf65d-9095-44d5-a9e0-0356d29626b9",
   "metadata": {},
   "outputs": [
    {
     "name": "stdout",
     "output_type": "stream",
     "text": [
      "<class 'pandas.core.frame.DataFrame'>\n",
      "RangeIndex: 31962 entries, 0 to 31961\n",
      "Data columns (total 3 columns):\n",
      " #   Column  Non-Null Count  Dtype \n",
      "---  ------  --------------  ----- \n",
      " 0   id      31962 non-null  int64 \n",
      " 1   label   31962 non-null  int64 \n",
      " 2   tweet   31962 non-null  object\n",
      "dtypes: int64(2), object(1)\n",
      "memory usage: 749.2+ KB\n"
     ]
    }
   ],
   "source": [
    "# Check the feature information of the dataset\n",
    "df_tweets.info()"
   ]
  },
  {
   "cell_type": "code",
   "execution_count": 4,
   "id": "284a6cde-6b8e-4cec-9b0f-5ab48bc13ddb",
   "metadata": {},
   "outputs": [
    {
     "data": {
      "text/plain": [
       "0    0.929854\n",
       "1    0.070146\n",
       "Name: label, dtype: float64"
      ]
     },
     "execution_count": 4,
     "metadata": {},
     "output_type": "execute_result"
    }
   ],
   "source": [
    "# Check the unique value counts for the 'label' \n",
    "df_tweets['label'].value_counts(normalize=True)"
   ]
  },
  {
   "cell_type": "code",
   "execution_count": 5,
   "id": "543c7599-a39c-4aca-877a-66cd841c4a01",
   "metadata": {},
   "outputs": [
    {
     "data": {
      "image/png": "[encoded data removed]",
      "text/plain": [
       "<Figure size 640x480 with 1 Axes>"
      ]
     },
     "metadata": {},
     "output_type": "display_data"
    }
   ],
   "source": [
    "# Plot the values\n",
    "sns.countplot(x='label', data=df_tweets);"
   ]
  },
  {
   "cell_type": "markdown",
   "id": "966e5623-8a47-4dbd-8437-7428a36d807b",
   "metadata": {},
   "source": [
    "#### Observations:\n",
    "- There are 31,962 tweets in the dataset\n",
    "- There are 92.98% `non-hate (0)` and 7.01% `hate (1)` tweets  "
   ]
  },
  {
   "cell_type": "markdown",
   "id": "ded93841-0988-45d6-bef8-708df12cfbe0",
   "metadata": {},
   "source": [
    "### 2. Get the tweets into a list for easy text cleanup and manipulation."
   ]
  },
  {
   "cell_type": "code",
   "execution_count": 6,
   "id": "72326794-436a-45e0-9b6f-13c0beac1ae7",
   "metadata": {},
   "outputs": [
    {
     "name": "stdout",
     "output_type": "stream",
     "text": [
      "\u001b[1mNumber of tweets:\u001b[0m 31962\n"
     ]
    },
    {
     "data": {
      "text/plain": [
       "[' @user when a father is dysfunctional and is so selfish he drags his kids into his dysfunction.   #run',\n",
       " \"@user @user thanks for #lyft credit i can't use cause they don't offer wheelchair vans in pdx.    #disapointed #getthanked\",\n",
       " '  bihday your majesty']"
      ]
     },
     "execution_count": 6,
     "metadata": {},
     "output_type": "execute_result"
    }
   ],
   "source": [
    "# Get the tweets into a list of strings \n",
    "tweets = list(df_tweets['tweet'].values)\n",
    "\n",
    "print(sbold + \"Number of tweets:\" + ebold, len(tweets))\n",
    "\n",
    "# Show the first 3 tweets\n",
    "tweets[:3]"
   ]
  },
  {
   "cell_type": "markdown",
   "id": "d0af66c9-bd4f-4831-87a1-2732d0b02e59",
   "metadata": {},
   "source": [
    "### 3. To cleanup:\n",
    "1. Normalize the casing.\n",
    "2. Using regular expressions, remove user handles. These begin with '@’.\n",
    "3. Using regular expressions, remove URLs.\n",
    "4. Using TweetTokenizer from NLTK, tokenize the tweets into individual terms.\n",
    "5. Remove stop words.\n",
    "6. Remove redundant terms like ‘amp’, ‘rt’, etc.\n",
    "7. Remove ‘#’ symbols from the tweet while retaining the term."
   ]
  },
  {
   "cell_type": "code",
   "execution_count": 7,
   "id": "aa4b93af-ad7f-4cbe-9508-7b81f2b23af5",
   "metadata": {},
   "outputs": [
    {
     "data": {
      "text/plain": [
       "[' @user when a father is dysfunctional and is so selfish he drags his kids into his dysfunction.   #run',\n",
       " \"@user @user thanks for #lyft credit i can't use cause they don't offer wheelchair vans in pdx.    #disapointed #getthanked\",\n",
       " '  bihday your majesty']"
      ]
     },
     "execution_count": 7,
     "metadata": {},
     "output_type": "execute_result"
    }
   ],
   "source": [
    "# 1. Normalize the casing\n",
    "tweets_lower = [s.lower() for s in tweets]\n",
    "\n",
    "# Show that the first 3. tweets had been changed to lowercase\n",
    "tweets_lower[:3]"
   ]
  },
  {
   "cell_type": "code",
   "execution_count": 8,
   "id": "addf4d4e-48b5-4523-9ccd-677719ea6918",
   "metadata": {},
   "outputs": [
    {
     "data": {
      "text/plain": [
       "['  when a father is dysfunctional and is so selfish he drags his kids into his dysfunction.   #run',\n",
       " \"  thanks for #lyft credit i can't use cause they don't offer wheelchair vans in pdx.    #disapointed #getthanked\",\n",
       " '  bihday your majesty']"
      ]
     },
     "execution_count": 8,
     "metadata": {},
     "output_type": "execute_result"
    }
   ],
   "source": [
    "# 2. Using regular expressions, remove user handles. These begin with '@’.\n",
    "tweets_removed_user = [re.sub('@\\w+', '', twt) for twt in tweets_lower]\n",
    "\n",
    "# Reshow the first 3 sentences to check that @user had been removed\n",
    "tweets_removed_user[:3]"
   ]
  },
  {
   "cell_type": "code",
   "execution_count": 9,
   "id": "864dbc02-ad64-436a-aa93-9f6f6c53ab04",
   "metadata": {},
   "outputs": [
    {
     "name": "stdout",
     "output_type": "stream",
     "text": [
      "#fly   #and #better #with #us #buranus  #www.flybcc.com #call #7/24  #airbroker #flightâ¦ \n",
      "  live right noww!!!!!!!!!!!! #vocal voyage 2-4pm (gmt) #sweet reggae music #realbuzzradio.com    fatherâ¦\n",
      "  couple having sex www.drunk singapore girl get fuck   \n",
      "so glad my #workout includes smoke breaks...www.smokeweedeatbacon.com #weed #bacon #fitness #sex #health #marijuana   #strength #living\n",
      "  just run 10kms for     #loveisall  pour donner: www.alvarum/heloiseetlespremas \n",
      "when i grow up......... #jw #jw.org #bestlifeever #love   #smile #avery \n",
      " fathersdayquotes  #father's #day #quotes #from #daughter #| #sayingimages.com â¦  \n",
      "check    father's day, psst mom dad wants...shoprsnet.com - #fashion up for less!  ...\n",
      "#psychic truth:what changes do i need to make in my life to be   ?   let's look..balancedenergie.com \n",
      "\u001b[1mFinish checking for possible URLs\u001b[0m\n"
     ]
    }
   ],
   "source": [
    "# Check the possible URLs that need to be removed\n",
    "def checkURLs(tweets):\n",
    "    for sent in tweets:\n",
    "        if '.com ' in sent or 'http' in sent or ' www.' in sent or '.org' in sent or '.edu' in sent:\n",
    "            print(sent)\n",
    "    print(sbold + 'Finish checking for possible URLs' + ebold)      \n",
    "checkURLs(tweets_removed_user)"
   ]
  },
  {
   "cell_type": "markdown",
   "id": "60fe6e25-e13a-45d2-9c4c-1ada38e10392",
   "metadata": {},
   "source": [
    "The possible URLs in the tweets of the current dataset are:\n",
    "- #www.flybcc.com\n",
    "- #realbuzzradio.com\n",
    "- www.drunk\n",
    "- www.smokeweedeatbacon.com\n",
    "- www.alvarum/heloiseetlespremas \n",
    "- #jw.org\n",
    "- #sayingimages.com\n",
    "- shoprsnet.com\n",
    "- balancedenergie.com\n",
    "\n",
    "It looks like most possible URLs in the tweets of the current dataset are usually either start with ' www.' or ends with '.com' or 'org'\n",
    "\n",
    "The possible 'http://' or 'https://' that are part of URLs are not in the current set of data but will need to be also considered when removing URLs from tweets."
   ]
  },
  {
   "cell_type": "code",
   "execution_count": 10,
   "id": "b2eb9e79-0946-4cc1-af96-7b4d68fb2989",
   "metadata": {},
   "outputs": [],
   "source": [
    "# 3. Using regular expressions, remove URLs.\n",
    "def removeURLs(tweets):\n",
    "    cleaned_tweets = []\n",
    "    for sent in tweets:\n",
    "        if 'http' in sent:\n",
    "            twt = re.sub('\\w+://\\S+', '', sent)\n",
    "        elif 'www.' in sent:\n",
    "            twt = re.sub('[w]{3}\\.\\S+', '', sent)\n",
    "        else:\n",
    "            twt = re.sub('\\w+(\\.{1}\\w{2,3})+\\S+', '', sent)\n",
    "            \n",
    "        cleaned_tweets.append(twt)\n",
    "        \n",
    "    return cleaned_tweets"
   ]
  },
  {
   "cell_type": "code",
   "execution_count": 11,
   "id": "7f1e2203-7214-467b-9954-86257cd00c21",
   "metadata": {},
   "outputs": [
    {
     "name": "stdout",
     "output_type": "stream",
     "text": [
      "\u001b[1mFinish checking for possible URLs\u001b[0m\n"
     ]
    }
   ],
   "source": [
    "# Remove URLs from tweets\n",
    "tweets_no_URLs = removeURLs(tweets_removed_user)\n",
    "\n",
    "# Check to see if there are any tweets with URL formats (if nothing then no print out)\n",
    "checkURLs(tweets_no_URLs)"
   ]
  },
  {
   "cell_type": "code",
   "execution_count": 12,
   "id": "22acb5e4-aa6f-4fa4-821e-bd61b9c271eb",
   "metadata": {},
   "outputs": [
    {
     "name": "stdout",
     "output_type": "stream",
     "text": [
      "\u001b[1mNumber of tokenized tweets:\u001b[0m 31962\n",
      "\u001b[1mFirst 3 tokenized tweets:\u001b[0m\n",
      "[['when', 'a', 'father', 'is', 'dysfunctional', 'and', 'is', 'so', 'selfish', 'he', 'drags', 'his', 'kids', 'into', 'his', 'dysfunction', '.', '#run'], ['thanks', 'for', '#lyft', 'credit', 'i', \"can't\", 'use', 'cause', 'they', \"don't\", 'offer', 'wheelchair', 'vans', 'in', 'pdx', '.', '#disapointed', '#getthanked'], ['bihday', 'your', 'majesty']]\n"
     ]
    }
   ],
   "source": [
    "# 4. Using TweetTokenizer from NLTK, tokenize the tweets into individual terms.\n",
    "tk = TweetTokenizer()\n",
    "tweets_tokenized = [tk.tokenize(tweet) for tweet in tweets_no_URLs]\n",
    "print(sbold + 'Number of tokenized tweets:' + ebold, len(tweets_tokenized))\n",
    "print(sbold + 'First 3 tokenized tweets:' + ebold)\n",
    "print(tweets_tokenized[:3])\n",
    "      "
   ]
  },
  {
   "cell_type": "code",
   "execution_count": 13,
   "id": "2c7a7601-58a3-4a04-aa72-a8e0270b5955",
   "metadata": {},
   "outputs": [],
   "source": [
    "# 5. Remove stop words.\n",
    "## Get punctuations to add to stop words \n",
    "punctuations = list(string.punctuation)\n",
    "\n",
    "## Get list of 'english' stopwords and update with punctuation\n",
    "stop_words = set(stopwords.words('english'))\n",
    "stop_words.update(punctuations)\n",
    "\n",
    "cleaned_tweets = []\n",
    "\n",
    "for sent in tweets_tokenized:\n",
    "    tokens = [word for word in sent if word not in stop_words]\n",
    "    cleaned_tweets.append(tokens)\n",
    "    "
   ]
  },
  {
   "cell_type": "code",
   "execution_count": 14,
   "id": "af117535-4c81-4066-bd30-411ca38c4296",
   "metadata": {
    "tags": []
   },
   "outputs": [
    {
     "name": "stdout",
     "output_type": "stream",
     "text": [
      "\u001b[1mBefore using stopwords on tweets:\u001b[0m\n",
      "[['when', 'a', 'father', 'is', 'dysfunctional', 'and', 'is', 'so', 'selfish', 'he', 'drags', 'his', 'kids', 'into', 'his', 'dysfunction', '.', '#run'], ['thanks', 'for', '#lyft', 'credit', 'i', \"can't\", 'use', 'cause', 'they', \"don't\", 'offer', 'wheelchair', 'vans', 'in', 'pdx', '.', '#disapointed', '#getthanked'], ['bihday', 'your', 'majesty'], ['#model', 'i', 'love', 'u', 'take', 'with', 'u', 'all', 'the', 'time', 'in', 'urð', '\\x9f', '\\x93', '±', '!', '!', '!', 'ð', '\\x9f', '\\x98', '\\x99', 'ð', '\\x9f', '\\x98', '\\x8e', 'ð', '\\x9f', '\\x91', '\\x84', 'ð', '\\x9f', '\\x91', 'ð', '\\x9f', '\\x92', '¦', 'ð', '\\x9f', '\\x92', '¦', 'ð', '\\x9f', '\\x92', '¦'], ['factsguide', ':', 'society', 'now', '#motivation']]\n",
      "\u001b[1mAfter using stopwords on tweets:\u001b[0m\n",
      "[['father', 'dysfunctional', 'selfish', 'drags', 'kids', 'dysfunction', '#run'], ['thanks', '#lyft', 'credit', \"can't\", 'use', 'cause', 'offer', 'wheelchair', 'vans', 'pdx', '#disapointed', '#getthanked'], ['bihday', 'majesty'], ['#model', 'love', 'u', 'take', 'u', 'time', 'urð', '\\x9f', '\\x93', '±', 'ð', '\\x9f', '\\x98', '\\x99', 'ð', '\\x9f', '\\x98', '\\x8e', 'ð', '\\x9f', '\\x91', '\\x84', 'ð', '\\x9f', '\\x91', 'ð', '\\x9f', '\\x92', '¦', 'ð', '\\x9f', '\\x92', '¦', 'ð', '\\x9f', '\\x92', '¦'], ['factsguide', 'society', '#motivation']]\n"
     ]
    }
   ],
   "source": [
    "# Show the first 5 tweets before and after applying stopwords\n",
    "print(sbold + 'Before using stopwords on tweets:' + ebold)\n",
    "print(tweets_tokenized[:5])\n",
    "print(sbold + 'After using stopwords on tweets:' + ebold)\n",
    "print(cleaned_tweets[:5])"
   ]
  },
  {
   "cell_type": "code",
   "execution_count": 15,
   "id": "e0ed2dd6-467b-409b-91d1-593ab0ac1259",
   "metadata": {},
   "outputs": [
    {
     "name": "stdout",
     "output_type": "stream",
     "text": [
      "\u001b[1mBefore removing redundant terms from tokens in tweets:\u001b[0m\n",
      "[['father', 'dysfunctional', 'selfish', 'drags', 'kids', 'dysfunction', '#run'], ['thanks', '#lyft', 'credit', \"can't\", 'use', 'cause', 'offer', 'wheelchair', 'vans', 'pdx', '#disapointed', '#getthanked'], ['bihday', 'majesty'], ['#model', 'love', 'u', 'take', 'u', 'time', 'urð', '\\x9f', '\\x93', '±', 'ð', '\\x9f', '\\x98', '\\x99', 'ð', '\\x9f', '\\x98', '\\x8e', 'ð', '\\x9f', '\\x91', '\\x84', 'ð', '\\x9f', '\\x91', 'ð', '\\x9f', '\\x92', '¦', 'ð', '\\x9f', '\\x92', '¦', 'ð', '\\x9f', '\\x92', '¦'], ['factsguide', 'society', '#motivation']]\n",
      "\u001b[1mAfter removing redundant terms from tokens in tweets:\u001b[0m\n",
      "[['father', 'dysfunctional', 'selfish', 'drags', 'kids', 'dysfunction', '#run'], ['thanks', '#lyft', 'credit', \"can't\", 'use', 'cause', 'offer', 'wheelchair', 'vans', 'pdx', '#disapointed', '#getthanked'], ['bihday', 'majesty'], ['#model', 'love', 'u', 'take', 'u', 'time', '\\x9f', '\\x93', '±', 'ð', '\\x9f', '\\x98', '\\x99', 'ð', '\\x9f', '\\x98', '\\x8e', 'ð', '\\x9f', '\\x91', '\\x84', 'ð', '\\x9f', '\\x91', 'ð', '\\x9f', '\\x92', '¦', 'ð', '\\x9f', '\\x92', '¦', 'ð', '\\x9f', '\\x92', '¦'], ['factsguide', 'society', '#motivation']]\n"
     ]
    }
   ],
   "source": [
    "# 6. Remove redundant terms like ‘amp’, ‘rt’, etc.\n",
    "redundant_terms = ['amp', 'rt', 'urð', '&amp', '&gt', '&lt', 'etc']\n",
    "\n",
    "clean_tweets = []\n",
    "for sent in cleaned_tweets:\n",
    "    tokens = [word for word in sent if word not in redundant_terms]\n",
    "    clean_tweets.append(tokens)\n",
    "\n",
    "print(sbold + 'Before removing redundant terms from tokens in tweets:' + ebold)\n",
    "print(cleaned_tweets[:5])\n",
    "print(sbold + 'After removing redundant terms from tokens in tweets:' + ebold)\n",
    "print(clean_tweets[:5])        "
   ]
  },
  {
   "cell_type": "code",
   "execution_count": 16,
   "id": "a367fa00-d599-4282-986e-1d5052397a5e",
   "metadata": {},
   "outputs": [
    {
     "name": "stdout",
     "output_type": "stream",
     "text": [
      "\u001b[1mBefore removing # from tokens in tweets:\u001b[0m\n",
      "[['father', 'dysfunctional', 'selfish', 'drags', 'kids', 'dysfunction', '#run'], ['thanks', '#lyft', 'credit', \"can't\", 'use', 'cause', 'offer', 'wheelchair', 'vans', 'pdx', '#disapointed', '#getthanked'], ['bihday', 'majesty']]\n",
      "\u001b[1mAfter removing # from tokens in tweets:\u001b[0m\n",
      "[['father', 'dysfunctional', 'selfish', 'drags', 'kids', 'dysfunction', 'run'], ['thanks', 'lyft', 'credit', \"can't\", 'use', 'cause', 'offer', 'wheelchair', 'vans', 'pdx', 'disapointed', 'getthanked'], ['bihday', 'majesty']]\n"
     ]
    }
   ],
   "source": [
    "# 7. Remove ‘#’ symbols from the tweet while retaining the term\n",
    "tweets_no_hash = []\n",
    "for sent in clean_tweets:\n",
    "    tokens_no_hash = [re.sub('#', '', word) for word in sent]\n",
    "    tweets_no_hash.append(tokens_no_hash)\n",
    "    \n",
    "print(sbold + 'Before removing # from tokens in tweets:' + ebold)\n",
    "print(cleaned_tweets[:3])\n",
    "print(sbold + 'After removing # from tokens in tweets:' + ebold)\n",
    "print(tweets_no_hash[:3])"
   ]
  },
  {
   "cell_type": "markdown",
   "id": "3bc65d25-00f5-49cf-ae3d-2a40774c017d",
   "metadata": {},
   "source": [
    "### 4. Extra cleanup by removing terms with a length of 1.\n",
    "- After cleaning `#`, let's run the stopwords again in the list to see if more stopwords can be removed before removing terms with a length of 1."
   ]
  },
  {
   "cell_type": "code",
   "execution_count": 17,
   "id": "dc758dfb-641f-4412-8dff-cb50e38bcc2c",
   "metadata": {
    "tags": []
   },
   "outputs": [],
   "source": [
    "# After cleaning `#`, let's run the stopwords again in the list to see if more stopwords can be removed\n",
    "\n",
    "# Add `...` and `..` to the stopwords\n",
    "stop_words.update([\"...\", \"..\", \"i'm\"])\n",
    "\n",
    "tweets_removed_stopwords = []\n",
    "\n",
    "for sent in tweets_no_hash:\n",
    "    tokens = [word for word in sent if word not in stop_words]\n",
    "    tweets_removed_stopwords.append(tokens)"
   ]
  },
  {
   "cell_type": "code",
   "execution_count": 18,
   "id": "790502b1-b1a3-4c1f-88ba-ca4cb340d693",
   "metadata": {},
   "outputs": [
    {
     "name": "stdout",
     "output_type": "stream",
     "text": [
      "\u001b[1mBefore removing terms with length of 1 from tweets:\u001b[0m\n",
      "[['father', 'dysfunctional', 'selfish', 'drags', 'kids', 'dysfunction', 'run'], ['thanks', 'lyft', 'credit', \"can't\", 'use', 'cause', 'offer', 'wheelchair', 'vans', 'pdx', 'disapointed', 'getthanked'], ['bihday', 'majesty'], ['model', 'love', 'u', 'take', 'u', 'time', '\\x9f', '\\x93', '±', 'ð', '\\x9f', '\\x98', '\\x99', 'ð', '\\x9f', '\\x98', '\\x8e', 'ð', '\\x9f', '\\x91', '\\x84', 'ð', '\\x9f', '\\x91', 'ð', '\\x9f', '\\x92', '¦', 'ð', '\\x9f', '\\x92', '¦', 'ð', '\\x9f', '\\x92', '¦'], ['factsguide', 'society', 'motivation']]\n",
      "\u001b[1mAfter removing terms with length of 1 from tweets:\u001b[0m\n",
      "[['father', 'dysfunctional', 'selfish', 'drags', 'kids', 'dysfunction', 'run'], ['thanks', 'lyft', 'credit', \"can't\", 'use', 'cause', 'offer', 'wheelchair', 'vans', 'pdx', 'disapointed', 'getthanked'], ['bihday', 'majesty'], ['model', 'love', 'take', 'time'], ['factsguide', 'society', 'motivation']]\n"
     ]
    }
   ],
   "source": [
    "# Removing terms with a length of 1\n",
    "tweets_clean = []\n",
    "\n",
    "for sent in tweets_removed_stopwords:\n",
    "    tokens = [word for word in sent if (len(word) > 1) and not(word.isnumeric())]\n",
    "    tweets_clean.append(tokens)\n",
    "    \n",
    "print(sbold + 'Before removing terms with length of 1 from tweets:' + ebold)\n",
    "print(tweets_removed_stopwords[:5])\n",
    "print(sbold + 'After removing terms with length of 1 from tweets:' + ebold)\n",
    "print(tweets_clean[:5])"
   ]
  },
  {
   "cell_type": "markdown",
   "id": "10273520-35d4-461b-b892-890a314cb2fa",
   "metadata": {},
   "source": [
    "### 5. Check out the top terms in the tweets:\n",
    "1. First, get all the tokenized terms into one large list.\n",
    "2. Use the counter and find the 10 most common terms."
   ]
  },
  {
   "cell_type": "code",
   "execution_count": 19,
   "id": "0a8f52a6-b7d1-425b-9e78-c4236a6beb11",
   "metadata": {},
   "outputs": [
    {
     "name": "stdout",
     "output_type": "stream",
     "text": [
      "\u001b[1mNumber of tokens in Bag of Words:\u001b[0m 246724\n"
     ]
    },
    {
     "data": {
      "text/plain": [
       "['father',\n",
       " 'dysfunctional',\n",
       " 'selfish',\n",
       " 'drags',\n",
       " 'kids',\n",
       " 'dysfunction',\n",
       " 'run',\n",
       " 'thanks',\n",
       " 'lyft',\n",
       " 'credit']"
      ]
     },
     "execution_count": 19,
     "metadata": {},
     "output_type": "execute_result"
    }
   ],
   "source": [
    "# 1. Convert the tokenized tweets into one large list (Bag Of Words)\n",
    "all_tokens = []\n",
    "\n",
    "for sent in tweets_clean:\n",
    "    all_tokens.extend(sent)\n",
    "    \n",
    "print(sbold + 'Number of tokens in Bag of Words:' + ebold, len(all_tokens))\n",
    "all_tokens[:10]"
   ]
  },
  {
   "cell_type": "code",
   "execution_count": 20,
   "id": "0bb4536a-dbab-4a82-bd71-fa3948bf1470",
   "metadata": {},
   "outputs": [
    {
     "name": "stdout",
     "output_type": "stream",
     "text": [
      "\u001b[1mThe 10 most common terms are:\u001b[0m\n"
     ]
    },
    {
     "data": {
      "text/plain": [
       "[('love', 2747),\n",
       " ('day', 2275),\n",
       " ('happy', 1684),\n",
       " ('time', 1131),\n",
       " ('life', 1118),\n",
       " ('like', 1047),\n",
       " ('today', 1012),\n",
       " ('new', 994),\n",
       " ('thankful', 946),\n",
       " ('positive', 931)]"
      ]
     },
     "execution_count": 20,
     "metadata": {},
     "output_type": "execute_result"
    }
   ],
   "source": [
    "# 2. Use the counter and find the 10 most common terms\n",
    "\n",
    "from collections import Counter\n",
    "\n",
    "termsCount = Counter(all_tokens)\n",
    "print(sbold + 'The 10 most common terms are:' + ebold)\n",
    "termsCount.most_common(10)"
   ]
  },
  {
   "cell_type": "code",
   "execution_count": 21,
   "id": "7ea9dfe8-4011-4da2-a096-495aca4dd94c",
   "metadata": {
    "tags": []
   },
   "outputs": [
    {
     "data": {
      "image/png": "[encoded data removed]",
      "text/plain": [
       "<Figure size 800x500 with 1 Axes>"
      ]
     },
     "metadata": {},
     "output_type": "display_data"
    }
   ],
   "source": [
    "## Plot the top most common word occurrence\n",
    "\n",
    "# Create a dictionary from the first 15 most common word counts \n",
    "top_words_dict = {word:count for word, count in termsCount.most_common(10)}\n",
    "\n",
    "# Create a DataFrame with the words and count dictionary\n",
    "df_top_words = pd.DataFrame({'words':list(top_words_dict.keys()), 'count':list(top_words_dict.values())})\n",
    "df_top_words                             \n",
    "\n",
    "# Plot the bar chart showing the most common word counts\n",
    "plt.figure(figsize=[8,5])\n",
    "sns.barplot(data=df_top_words, x='count', y='words').grid();"
   ]
  },
  {
   "cell_type": "markdown",
   "id": "06a9489f-ab77-486f-9007-4040237aec7b",
   "metadata": {},
   "source": [
    "### Show most common words as WordCloud"
   ]
  },
  {
   "cell_type": "code",
   "execution_count": 22,
   "id": "2e4e9e2a-9a95-4dfd-9ac8-8850696063b1",
   "metadata": {
    "tags": []
   },
   "outputs": [
    {
     "data": {
      "text/plain": [
       "\"father dysfunctional selfish drags kids dysfunction run thanks lyft credit can't use cause offer wheelchair vans pdx disapointed\""
      ]
     },
     "execution_count": 22,
     "metadata": {},
     "output_type": "execute_result"
    }
   ],
   "source": [
    "## Combine the content of all of the tokens into one string\n",
    "all_text = ' '.join(word for word in all_tokens)\n",
    "\n",
    "# Show that the tokens are now joined as one string\n",
    "all_text[:128]\n"
   ]
  },
  {
   "cell_type": "code",
   "execution_count": 23,
   "id": "5c61a3ad-9ad8-4929-a291-ed5964f2532f",
   "metadata": {
    "tags": []
   },
   "outputs": [],
   "source": [
    "## Create wordcloud object\n",
    "wordcloud = WordCloud(colormap='coolwarm', background_color='black').generate(all_text)\n"
   ]
  },
  {
   "cell_type": "code",
   "execution_count": 24,
   "id": "80c681f7-6625-4955-abc2-7220914aed73",
   "metadata": {
    "tags": []
   },
   "outputs": [
    {
     "data": {
      "image/png": "[encoded data removed]",
      "text/plain": [
       "<Figure size 640x480 with 1 Axes>"
      ]
     },
     "metadata": {},
     "output_type": "display_data"
    }
   ],
   "source": [
    "## Visualize wordcloud object\n",
    "plt.imshow(wordcloud, interpolation='bilinear')\n",
    "plt.axis(\"off\")\n",
    "plt.show()"
   ]
  },
  {
   "cell_type": "markdown",
   "id": "73753201-8fc6-4775-833d-583e7ccc6653",
   "metadata": {},
   "source": [
    "### 6. Data formatting for predictive modeling:\n",
    "1. Join the tokens back to form strings. This will be required for the vectorizers.\n",
    "2. Assign x and y.\n",
    "3. Perform train_test_split using sklearn."
   ]
  },
  {
   "cell_type": "code",
   "execution_count": 25,
   "id": "cf7bcba5-8636-4681-a60d-164c89c19a3d",
   "metadata": {},
   "outputs": [
    {
     "name": "stdout",
     "output_type": "stream",
     "text": [
      "\u001b[1mThe cleaned tokenized tweets are converted back into string format (showing first 3 tweets):\u001b[0m\n",
      "['father dysfunctional selfish drags kids dysfunction run', \"thanks lyft credit can't use cause offer wheelchair vans pdx disapointed getthanked\", 'bihday majesty']\n",
      "\u001b[1m\n",
      "Number of tweets are:\u001b[0m 31962\n"
     ]
    }
   ],
   "source": [
    "# 6.1 Join the tokens back to form strings.\n",
    "\n",
    "tweet_strings = [\" \".join(sent) for sent in tweets_clean]\n",
    "print(sbold + \"The cleaned tokenized tweets are converted back into string format (showing first 3 tweets):\" + ebold) \n",
    "print(tweet_strings[:3])\n",
    "\n",
    "print(sbold + \"\\nNumber of tweets are:\" + ebold, len(tweet_strings))"
   ]
  },
  {
   "cell_type": "markdown",
   "id": "519d5852-74fb-4ded-ad33-3637ecc7e744",
   "metadata": {},
   "source": [
    "### Remove any empty tweets after cleaned up before assigning to X and y"
   ]
  },
  {
   "cell_type": "code",
   "execution_count": 26,
   "id": "df8f5c38-9d68-4851-afd8-cc550fecc04c",
   "metadata": {
    "tags": []
   },
   "outputs": [
    {
     "name": "stdout",
     "output_type": "stream",
     "text": [
      "\u001b[1mLength of tweet_strings:   \u001b[0m 31962 \u001b[1mLength of X:\u001b[0m 31932\n",
      "\u001b[1mLength of labels in dframe:\u001b[0m 31962 \u001b[1mLength of y:\u001b[0m 31932\n"
     ]
    }
   ],
   "source": [
    "# 6.2 Assign x and y\n",
    "\n",
    "X = []\n",
    "y = []\n",
    "\n",
    "# Get the labels from the original dataset\n",
    "y_lst = list(df_tweets['label'].values)\n",
    "\n",
    "# Check to make sure that the tweet string is not empty before assigning to X\n",
    "# Only take the corresponding y value for the tweets\n",
    "for i in range(len(tweet_strings)):\n",
    "    if len(tweet_strings[i]) > 0:\n",
    "        X.append(tweet_strings[i])\n",
    "        y.append(y_lst[i])\n",
    "        \n",
    "# Validation check to make sure the number of rows in the dataset are in sync\n",
    "print(sbold + \"Length of tweet_strings:   \" + ebold, len(tweet_strings), sbold + \"Length of X:\" + ebold, len(X))\n",
    "print(sbold + \"Length of labels in dframe:\" + ebold, len(y_lst), sbold + \"Length of y:\" + ebold, len(y))\n",
    "    "
   ]
  },
  {
   "cell_type": "code",
   "execution_count": 27,
   "id": "497456b1-6815-4bbb-b7da-6c80a94c8425",
   "metadata": {},
   "outputs": [],
   "source": [
    "# 6.3 Perform train_test_split using sklearn\n",
    "\n",
    "from sklearn.model_selection import train_test_split\n",
    "\n",
    "# Split the train/test dataset with 80/20% split\n",
    "X_train, X_test, y_train, y_test = train_test_split(X, y, test_size=0.2, random_state=42)"
   ]
  },
  {
   "cell_type": "markdown",
   "id": "112f4444-7e1d-4ef3-b9a9-162b0076ff1f",
   "metadata": {},
   "source": [
    "### 7. We’ll use TF-IDF values for the terms as a feature to get into a vector space model.\n",
    "1. Import TF-IDF vectorizer from sklearn.\n",
    "2. Instantiate with a maximum of 5000 terms in your vocabulary.\n",
    "3. Fit and apply on the train set.\n",
    "4. Apply on the test set."
   ]
  },
  {
   "cell_type": "code",
   "execution_count": 28,
   "id": "f796558d-9f3a-409a-b322-f99250b2ffac",
   "metadata": {},
   "outputs": [],
   "source": [
    "# 71. Import TF-IDF vectorizer from sklearn\n",
    "\n",
    "from sklearn.feature_extraction.text import TfidfVectorizer"
   ]
  },
  {
   "cell_type": "code",
   "execution_count": 29,
   "id": "e43f8df2-aec0-458d-aa3e-15f99a09e222",
   "metadata": {},
   "outputs": [],
   "source": [
    "# 7.2 Instantiate with a maximum of 5000 terms in your vocabulary\n",
    "vectorizer = TfidfVectorizer(max_features=5000)"
   ]
  },
  {
   "cell_type": "code",
   "execution_count": 30,
   "id": "15732f03-5b86-46af-88ad-7e62a148b1df",
   "metadata": {},
   "outputs": [],
   "source": [
    "# 7.3 Fit and apply on the train set\n",
    "X_train_tfidf = vectorizer.fit_transform(X_train)"
   ]
  },
  {
   "cell_type": "code",
   "execution_count": 31,
   "id": "2dd6746a-8dba-46c3-ad5a-51d74835b1ea",
   "metadata": {},
   "outputs": [],
   "source": [
    "# 7.4 Apply on the test set\n",
    "X_test_tfidf = vectorizer.transform(X_test)"
   ]
  },
  {
   "cell_type": "markdown",
   "id": "9c09ad18-6d56-4f91-834e-67e3b1cc89a8",
   "metadata": {},
   "source": [
    "### 8. Model building: Ordinary Logistic Regression\n",
    "1. Instantiate Logistic Regression from sklearn with default parameters.\n",
    "2. Fit into the train data.\n",
    "3. Make predictions for the train and the test set. "
   ]
  },
  {
   "cell_type": "code",
   "execution_count": 32,
   "id": "0f2b1858-ce0e-4c46-8a40-0e3e136ef682",
   "metadata": {},
   "outputs": [],
   "source": [
    "# 8.1 Instantiate Logistic Regression from sklearn with default parameters.\n",
    "from sklearn.linear_model import LogisticRegression\n",
    "\n",
    "reg = LogisticRegression()"
   ]
  },
  {
   "cell_type": "code",
   "execution_count": 33,
   "id": "dbdf6b0c-1b64-425b-84a5-51a16f58d8f5",
   "metadata": {},
   "outputs": [
    {
     "data": {
      "text/html": [
       "<style>#sk-container-id-1 {color: black;background-color: white;}#sk-container-id-1 pre{padding: 0;}#sk-container-id-1 div.sk-toggleable {background-color: white;}#sk-container-id-1 label.sk-toggleable__label {cursor: pointer;display: block;width: 100%;margin-bottom: 0;padding: 0.3em;box-sizing: border-box;text-align: center;}#sk-container-id-1 label.sk-toggleable__label-arrow:before {content: \"▸\";float: left;margin-right: 0.25em;color: #696969;}#sk-container-id-1 label.sk-toggleable__label-arrow:hover:before {color: black;}#sk-container-id-1 div.sk-estimator:hover label.sk-toggleable__label-arrow:before {color: black;}#sk-container-id-1 div.sk-toggleable__content {max-height: 0;max-width: 0;overflow: hidden;text-align: left;background-color: #f0f8ff;}#sk-container-id-1 div.sk-toggleable__content pre {margin: 0.2em;color: black;border-radius: 0.25em;background-color: #f0f8ff;}#sk-container-id-1 input.sk-toggleable__control:checked~div.sk-toggleable__content {max-height: 200px;max-width: 100%;overflow: auto;}#sk-container-id-1 input.sk-toggleable__control:checked~label.sk-toggleable__label-arrow:before {content: \"▾\";}#sk-container-id-1 div.sk-estimator input.sk-toggleable__control:checked~label.sk-toggleable__label {background-color: #d4ebff;}#sk-container-id-1 div.sk-label input.sk-toggleable__control:checked~label.sk-toggleable__label {background-color: #d4ebff;}#sk-container-id-1 input.sk-hidden--visually {border: 0;clip: rect(1px 1px 1px 1px);clip: rect(1px, 1px, 1px, 1px);height: 1px;margin: -1px;overflow: hidden;padding: 0;position: absolute;width: 1px;}#sk-container-id-1 div.sk-estimator {font-family: monospace;background-color: #f0f8ff;border: 1px dotted black;border-radius: 0.25em;box-sizing: border-box;margin-bottom: 0.5em;}#sk-container-id-1 div.sk-estimator:hover {background-color: #d4ebff;}#sk-container-id-1 div.sk-parallel-item::after {content: \"\";width: 100%;border-bottom: 1px solid gray;flex-grow: 1;}#sk-container-id-1 div.sk-label:hover label.sk-toggleable__label {background-color: #d4ebff;}#sk-container-id-1 div.sk-serial::before {content: \"\";position: absolute;border-left: 1px solid gray;box-sizing: border-box;top: 0;bottom: 0;left: 50%;z-index: 0;}#sk-container-id-1 div.sk-serial {display: flex;flex-direction: column;align-items: center;background-color: white;padding-right: 0.2em;padding-left: 0.2em;position: relative;}#sk-container-id-1 div.sk-item {position: relative;z-index: 1;}#sk-container-id-1 div.sk-parallel {display: flex;align-items: stretch;justify-content: center;background-color: white;position: relative;}#sk-container-id-1 div.sk-item::before, #sk-container-id-1 div.sk-parallel-item::before {content: \"\";position: absolute;border-left: 1px solid gray;box-sizing: border-box;top: 0;bottom: 0;left: 50%;z-index: -1;}#sk-container-id-1 div.sk-parallel-item {display: flex;flex-direction: column;z-index: 1;position: relative;background-color: white;}#sk-container-id-1 div.sk-parallel-item:first-child::after {align-self: flex-end;width: 50%;}#sk-container-id-1 div.sk-parallel-item:last-child::after {align-self: flex-start;width: 50%;}#sk-container-id-1 div.sk-parallel-item:only-child::after {width: 0;}#sk-container-id-1 div.sk-dashed-wrapped {border: 1px dashed gray;margin: 0 0.4em 0.5em 0.4em;box-sizing: border-box;padding-bottom: 0.4em;background-color: white;}#sk-container-id-1 div.sk-label label {font-family: monospace;font-weight: bold;display: inline-block;line-height: 1.2em;}#sk-container-id-1 div.sk-label-container {text-align: center;}#sk-container-id-1 div.sk-container {/* jupyter's `normalize.less` sets `[hidden] { display: none; }` but bootstrap.min.css set `[hidden] { display: none !important; }` so we also need the `!important` here to be able to override the default hidden behavior on the sphinx rendered scikit-learn.org. See: https://github.com/scikit-learn/scikit-learn/issues/21755 */display: inline-block !important;position: relative;}#sk-container-id-1 div.sk-text-repr-fallback {display: none;}</style><div id=\"sk-container-id-1\" class=\"sk-top-container\"><div class=\"sk-text-repr-fallback\"><pre>LogisticRegression()</pre><b>In a Jupyter environment, please rerun this cell to show the HTML representation or trust the notebook. <br />On GitHub, the HTML representation is unable to render, please try loading this page with nbviewer.org.</b></div><div class=\"sk-container\" hidden><div class=\"sk-item\"><div class=\"sk-estimator sk-toggleable\"><input class=\"sk-toggleable__control sk-hidden--visually\" id=\"sk-estimator-id-1\" type=\"checkbox\" checked><label for=\"sk-estimator-id-1\" class=\"sk-toggleable__label sk-toggleable__label-arrow\">LogisticRegression</label><div class=\"sk-toggleable__content\"><pre>LogisticRegression()</pre></div></div></div></div></div>"
      ],
      "text/plain": [
       "LogisticRegression()"
      ]
     },
     "execution_count": 33,
     "metadata": {},
     "output_type": "execute_result"
    }
   ],
   "source": [
    "# 8.2 Fit into the train data\n",
    "\n",
    "reg.fit(X_train_tfidf, y_train)"
   ]
  },
  {
   "cell_type": "code",
   "execution_count": 34,
   "id": "13a84c5e-7eac-4e28-9bdb-a67a8fda4fe7",
   "metadata": {
    "tags": []
   },
   "outputs": [],
   "source": [
    "# 8.3 Make predictions for the train and the test set.\n",
    "\n",
    "y_train_pred = reg.predict(X_train_tfidf)\n",
    "\n",
    "y_test_pred = reg.predict(X_test_tfidf)"
   ]
  },
  {
   "cell_type": "markdown",
   "id": "5e612eb9-bd71-43ab-90ab-c8a6dc6df310",
   "metadata": {},
   "source": [
    "### 9. Model evaluation: Accuracy, recall, and f_1 score.\n",
    "1. Report the accuracy on the train set.\n",
    "2. Report the recall on the train set: decent, high, or low.\n",
    "3. Get the f1 score on the train set."
   ]
  },
  {
   "cell_type": "code",
   "execution_count": 35,
   "id": "b726d8bf-8614-4e82-a9b4-bbc1c8e27bfb",
   "metadata": {
    "tags": []
   },
   "outputs": [
    {
     "name": "stdout",
     "output_type": "stream",
     "text": [
      "\u001b[1mAccuracy Score is:\u001b[0m\n"
     ]
    },
    {
     "data": {
      "text/plain": [
       "0.9558034840477588"
      ]
     },
     "execution_count": 35,
     "metadata": {},
     "output_type": "execute_result"
    }
   ],
   "source": [
    "# 9.1 Report the accuracy on the train set\n",
    "\n",
    "from sklearn.metrics import accuracy_score, classification_report\n",
    "\n",
    "print(sbold + 'Accuracy Score is:' + ebold)\n",
    "accuracy_score(y_train, y_train_pred)"
   ]
  },
  {
   "cell_type": "code",
   "execution_count": 36,
   "id": "8a56eef2-2693-4377-8734-0d91dc3bb9c1",
   "metadata": {
    "tags": []
   },
   "outputs": [
    {
     "name": "stdout",
     "output_type": "stream",
     "text": [
      "\u001b[1mRecall score:\u001b[0m 0.3901\n"
     ]
    }
   ],
   "source": [
    "# 9.2 Report the recall on the train set\n",
    "from sklearn.metrics import recall_score\n",
    "\n",
    "rscore = recall_score(y_train, y_train_pred)\n",
    "\n",
    "print(sbold + \"Recall score:\" + ebold, \"%.4f\" % rscore)\n"
   ]
  },
  {
   "cell_type": "code",
   "execution_count": 37,
   "id": "769dc914-b3b9-4c42-b6e1-cd8d2a39ad4f",
   "metadata": {
    "tags": []
   },
   "outputs": [
    {
     "name": "stdout",
     "output_type": "stream",
     "text": [
      "\u001b[1mF-1 score:   \u001b[0m 0.5522\n"
     ]
    }
   ],
   "source": [
    "# 9.3 Get the f1 score on the train set\n",
    "from sklearn.metrics import f1_score\n",
    "\n",
    "f1score = f1_score(y_train, y_train_pred)\n",
    "\n",
    "print(sbold + \"F-1 score:   \" + ebold, \"%.4f\" % f1score)"
   ]
  },
  {
   "cell_type": "code",
   "execution_count": 38,
   "id": "331de757-ceee-43c0-8ebb-d30c872c2e50",
   "metadata": {
    "tags": []
   },
   "outputs": [
    {
     "name": "stdout",
     "output_type": "stream",
     "text": [
      "\u001b[1mShowing the recall and f1-score from the classification report\u001b[0m\n",
      "              precision    recall  f1-score   support\n",
      "\n",
      "           0       0.96      1.00      0.98     23761\n",
      "           1       0.94      0.39      0.55      1784\n",
      "\n",
      "    accuracy                           0.96     25545\n",
      "   macro avg       0.95      0.69      0.76     25545\n",
      "weighted avg       0.96      0.96      0.95     25545\n",
      "\n"
     ]
    }
   ],
   "source": [
    "# Both recall and f1-score can be seen also in the classification report\n",
    "\n",
    "print(sbold + 'Showing the recall and f1-score from the classification report' + ebold)\n",
    "print(classification_report(y_train, y_train_pred))"
   ]
  },
  {
   "cell_type": "markdown",
   "id": "1811d8ce-93d8-4b21-a9af-6664f8a07da2",
   "metadata": {},
   "source": [
    "### 10. Looks like you need to adjust the class imbalance, as the model seems to focus on the 0s.\n",
    "1. Adjust the appropriate class in the LogisticRegression model."
   ]
  },
  {
   "cell_type": "code",
   "execution_count": 39,
   "id": "ab363a56-1bb4-4b73-9a38-78d7536deeea",
   "metadata": {},
   "outputs": [],
   "source": [
    "# 10.1 Adjust the appropriate class in the LogisticRegression model\n",
    "\n",
    "log_reg = LogisticRegression(class_weight='balanced')"
   ]
  },
  {
   "cell_type": "markdown",
   "id": "374ec904-495f-4057-a655-fb81f3e518df",
   "metadata": {},
   "source": [
    "### 11. Train again with the adjustment and evaluate.\n",
    "1. Train the model on the train set.\n",
    "2. Evaluate the predictions on the train set: accuracy, recall, and f_1 score."
   ]
  },
  {
   "cell_type": "code",
   "execution_count": 40,
   "id": "74968b4e-2f68-4a93-997e-f22cefd5a37a",
   "metadata": {},
   "outputs": [
    {
     "data": {
      "text/html": [
       "<style>#sk-container-id-2 {color: black;background-color: white;}#sk-container-id-2 pre{padding: 0;}#sk-container-id-2 div.sk-toggleable {background-color: white;}#sk-container-id-2 label.sk-toggleable__label {cursor: pointer;display: block;width: 100%;margin-bottom: 0;padding: 0.3em;box-sizing: border-box;text-align: center;}#sk-container-id-2 label.sk-toggleable__label-arrow:before {content: \"▸\";float: left;margin-right: 0.25em;color: #696969;}#sk-container-id-2 label.sk-toggleable__label-arrow:hover:before {color: black;}#sk-container-id-2 div.sk-estimator:hover label.sk-toggleable__label-arrow:before {color: black;}#sk-container-id-2 div.sk-toggleable__content {max-height: 0;max-width: 0;overflow: hidden;text-align: left;background-color: #f0f8ff;}#sk-container-id-2 div.sk-toggleable__content pre {margin: 0.2em;color: black;border-radius: 0.25em;background-color: #f0f8ff;}#sk-container-id-2 input.sk-toggleable__control:checked~div.sk-toggleable__content {max-height: 200px;max-width: 100%;overflow: auto;}#sk-container-id-2 input.sk-toggleable__control:checked~label.sk-toggleable__label-arrow:before {content: \"▾\";}#sk-container-id-2 div.sk-estimator input.sk-toggleable__control:checked~label.sk-toggleable__label {background-color: #d4ebff;}#sk-container-id-2 div.sk-label input.sk-toggleable__control:checked~label.sk-toggleable__label {background-color: #d4ebff;}#sk-container-id-2 input.sk-hidden--visually {border: 0;clip: rect(1px 1px 1px 1px);clip: rect(1px, 1px, 1px, 1px);height: 1px;margin: -1px;overflow: hidden;padding: 0;position: absolute;width: 1px;}#sk-container-id-2 div.sk-estimator {font-family: monospace;background-color: #f0f8ff;border: 1px dotted black;border-radius: 0.25em;box-sizing: border-box;margin-bottom: 0.5em;}#sk-container-id-2 div.sk-estimator:hover {background-color: #d4ebff;}#sk-container-id-2 div.sk-parallel-item::after {content: \"\";width: 100%;border-bottom: 1px solid gray;flex-grow: 1;}#sk-container-id-2 div.sk-label:hover label.sk-toggleable__label {background-color: #d4ebff;}#sk-container-id-2 div.sk-serial::before {content: \"\";position: absolute;border-left: 1px solid gray;box-sizing: border-box;top: 0;bottom: 0;left: 50%;z-index: 0;}#sk-container-id-2 div.sk-serial {display: flex;flex-direction: column;align-items: center;background-color: white;padding-right: 0.2em;padding-left: 0.2em;position: relative;}#sk-container-id-2 div.sk-item {position: relative;z-index: 1;}#sk-container-id-2 div.sk-parallel {display: flex;align-items: stretch;justify-content: center;background-color: white;position: relative;}#sk-container-id-2 div.sk-item::before, #sk-container-id-2 div.sk-parallel-item::before {content: \"\";position: absolute;border-left: 1px solid gray;box-sizing: border-box;top: 0;bottom: 0;left: 50%;z-index: -1;}#sk-container-id-2 div.sk-parallel-item {display: flex;flex-direction: column;z-index: 1;position: relative;background-color: white;}#sk-container-id-2 div.sk-parallel-item:first-child::after {align-self: flex-end;width: 50%;}#sk-container-id-2 div.sk-parallel-item:last-child::after {align-self: flex-start;width: 50%;}#sk-container-id-2 div.sk-parallel-item:only-child::after {width: 0;}#sk-container-id-2 div.sk-dashed-wrapped {border: 1px dashed gray;margin: 0 0.4em 0.5em 0.4em;box-sizing: border-box;padding-bottom: 0.4em;background-color: white;}#sk-container-id-2 div.sk-label label {font-family: monospace;font-weight: bold;display: inline-block;line-height: 1.2em;}#sk-container-id-2 div.sk-label-container {text-align: center;}#sk-container-id-2 div.sk-container {/* jupyter's `normalize.less` sets `[hidden] { display: none; }` but bootstrap.min.css set `[hidden] { display: none !important; }` so we also need the `!important` here to be able to override the default hidden behavior on the sphinx rendered scikit-learn.org. See: https://github.com/scikit-learn/scikit-learn/issues/21755 */display: inline-block !important;position: relative;}#sk-container-id-2 div.sk-text-repr-fallback {display: none;}</style><div id=\"sk-container-id-2\" class=\"sk-top-container\"><div class=\"sk-text-repr-fallback\"><pre>LogisticRegression(class_weight=&#x27;balanced&#x27;)</pre><b>In a Jupyter environment, please rerun this cell to show the HTML representation or trust the notebook. <br />On GitHub, the HTML representation is unable to render, please try loading this page with nbviewer.org.</b></div><div class=\"sk-container\" hidden><div class=\"sk-item\"><div class=\"sk-estimator sk-toggleable\"><input class=\"sk-toggleable__control sk-hidden--visually\" id=\"sk-estimator-id-2\" type=\"checkbox\" checked><label for=\"sk-estimator-id-2\" class=\"sk-toggleable__label sk-toggleable__label-arrow\">LogisticRegression</label><div class=\"sk-toggleable__content\"><pre>LogisticRegression(class_weight=&#x27;balanced&#x27;)</pre></div></div></div></div></div>"
      ],
      "text/plain": [
       "LogisticRegression(class_weight='balanced')"
      ]
     },
     "execution_count": 40,
     "metadata": {},
     "output_type": "execute_result"
    }
   ],
   "source": [
    "# 11.1 Train the model on the train set\n",
    "\n",
    "log_reg.fit(X_train_tfidf, y_train)"
   ]
  },
  {
   "cell_type": "code",
   "execution_count": 41,
   "id": "366b6b5b-3fa8-4729-acaf-aebdef2d3889",
   "metadata": {},
   "outputs": [
    {
     "name": "stdout",
     "output_type": "stream",
     "text": [
      "\u001b[1mAccuracy Score:\u001b[0m 0.9480133098453709\n",
      "\u001b[1m\n",
      "Recall Score:\u001b[0m 0.969170403587444\n",
      "\u001b[1m\n",
      "F1 Score:\u001b[0m 0.722524028416214\n",
      "\u001b[1m\n",
      "Classification Report showing recall and f1-score:\u001b[0m\n",
      "              precision    recall  f1-score   support\n",
      "\n",
      "           0       1.00      0.95      0.97     23761\n",
      "           1       0.58      0.97      0.72      1784\n",
      "\n",
      "    accuracy                           0.95     25545\n",
      "   macro avg       0.79      0.96      0.85     25545\n",
      "weighted avg       0.97      0.95      0.95     25545\n",
      "\n"
     ]
    }
   ],
   "source": [
    "# 11.2 Evaluate the predictions on the train set: accuracy, recall and f_1 score\n",
    "\n",
    "y_train_pred_bal = log_reg.predict(X_train_tfidf)\n",
    "\n",
    "print(sbold + \"Accuracy Score:\" + ebold, accuracy_score(y_train, y_train_pred_bal))\n",
    "\n",
    "print(sbold + \"\\nRecall Score:\" + ebold, recall_score(y_train, y_train_pred_bal))\n",
    "\n",
    "print(sbold + \"\\nF1 Score:\" + ebold, f1_score(y_train, y_train_pred_bal))\n",
    "    \n",
    "print(sbold + \"\\nClassification Report showing recall and f1-score:\" + ebold)\n",
    "print(classification_report(y_train, y_train_pred_bal))"
   ]
  },
  {
   "cell_type": "markdown",
   "id": "d8e4c069-dbaa-4301-8d03-7482d5a13eeb",
   "metadata": {},
   "source": [
    "### 12. Regularization and Hyperparameter tuning:\n",
    "1. Import GridSearch and StratifiedKFold because of class imbalance.\n",
    "2. Provide the parameter grid to choose for ‘C’ and ‘penalty’ parameters.\n",
    "3. Use a balanced class weight while instantiating the logistic regression."
   ]
  },
  {
   "cell_type": "code",
   "execution_count": 42,
   "id": "7dd1ca4c-93fa-4ed2-9682-70e89c375a12",
   "metadata": {},
   "outputs": [],
   "source": [
    "# 12.1 Import GridSearch and StratifiedKFold because of class imbalance\n",
    "\n",
    "from sklearn.model_selection import GridSearchCV, StratifiedKFold"
   ]
  },
  {
   "cell_type": "code",
   "execution_count": 43,
   "id": "f3bdd006-4d12-4021-bbe1-86ce6be9b170",
   "metadata": {},
   "outputs": [],
   "source": [
    "# 12.2 Provide the parameter grid to choose for 'C' and 'penalty' parameters\n",
    "\n",
    "param_grid = [\n",
    "  {'C': [0.01,0.1,1,10,100], 'penalty': ['l1', 'l2']}\n",
    " ]"
   ]
  },
  {
   "cell_type": "code",
   "execution_count": 44,
   "id": "806b3dbc-2538-4a7a-9470-0786d84ed1a3",
   "metadata": {
    "tags": []
   },
   "outputs": [],
   "source": [
    "# 12.3 Use a balanced class weight while instantiating the logistic regression\n",
    "\n",
    "logReg = LogisticRegression(solver='liblinear', class_weight=\"balanced\")\n"
   ]
  },
  {
   "cell_type": "markdown",
   "id": "53c4654a-eb4e-4924-a516-83374ae7a703",
   "metadata": {},
   "source": [
    "### 13. Find the parameters with the best recall in cross-validation.\n",
    "1. Choose ‘recall’ as the metric for scoring.\n",
    "2. Choose a stratified 4 fold cross-validation scheme.\n",
    "3. Fit into the train set."
   ]
  },
  {
   "cell_type": "code",
   "execution_count": 45,
   "id": "48d86685-a1a5-4e53-9f66-9f95bcf2fdcb",
   "metadata": {},
   "outputs": [],
   "source": [
    "# 13.1 Choose 'recall' as the metric for scoring\n",
    "# 13.2 Choose a stratified 4 fold cross-validation scheme\n",
    "\n",
    "grid_search = GridSearchCV(estimator=logReg, \n",
    "                           param_grid = param_grid,\n",
    "                           scoring='recall', \n",
    "                           n_jobs=-1, \n",
    "                           cv=StratifiedKFold(4), \n",
    "                           verbose=1)"
   ]
  },
  {
   "cell_type": "code",
   "execution_count": 46,
   "id": "76a1fc1b-77da-4864-8fa0-a146e5e873c7",
   "metadata": {},
   "outputs": [
    {
     "name": "stdout",
     "output_type": "stream",
     "text": [
      "Fitting 4 folds for each of 10 candidates, totalling 40 fits\n"
     ]
    },
    {
     "data": {
      "text/html": [
       "<style>#sk-container-id-3 {color: black;background-color: white;}#sk-container-id-3 pre{padding: 0;}#sk-container-id-3 div.sk-toggleable {background-color: white;}#sk-container-id-3 label.sk-toggleable__label {cursor: pointer;display: block;width: 100%;margin-bottom: 0;padding: 0.3em;box-sizing: border-box;text-align: center;}#sk-container-id-3 label.sk-toggleable__label-arrow:before {content: \"▸\";float: left;margin-right: 0.25em;color: #696969;}#sk-container-id-3 label.sk-toggleable__label-arrow:hover:before {color: black;}#sk-container-id-3 div.sk-estimator:hover label.sk-toggleable__label-arrow:before {color: black;}#sk-container-id-3 div.sk-toggleable__content {max-height: 0;max-width: 0;overflow: hidden;text-align: left;background-color: #f0f8ff;}#sk-container-id-3 div.sk-toggleable__content pre {margin: 0.2em;color: black;border-radius: 0.25em;background-color: #f0f8ff;}#sk-container-id-3 input.sk-toggleable__control:checked~div.sk-toggleable__content {max-height: 200px;max-width: 100%;overflow: auto;}#sk-container-id-3 input.sk-toggleable__control:checked~label.sk-toggleable__label-arrow:before {content: \"▾\";}#sk-container-id-3 div.sk-estimator input.sk-toggleable__control:checked~label.sk-toggleable__label {background-color: #d4ebff;}#sk-container-id-3 div.sk-label input.sk-toggleable__control:checked~label.sk-toggleable__label {background-color: #d4ebff;}#sk-container-id-3 input.sk-hidden--visually {border: 0;clip: rect(1px 1px 1px 1px);clip: rect(1px, 1px, 1px, 1px);height: 1px;margin: -1px;overflow: hidden;padding: 0;position: absolute;width: 1px;}#sk-container-id-3 div.sk-estimator {font-family: monospace;background-color: #f0f8ff;border: 1px dotted black;border-radius: 0.25em;box-sizing: border-box;margin-bottom: 0.5em;}#sk-container-id-3 div.sk-estimator:hover {background-color: #d4ebff;}#sk-container-id-3 div.sk-parallel-item::after {content: \"\";width: 100%;border-bottom: 1px solid gray;flex-grow: 1;}#sk-container-id-3 div.sk-label:hover label.sk-toggleable__label {background-color: #d4ebff;}#sk-container-id-3 div.sk-serial::before {content: \"\";position: absolute;border-left: 1px solid gray;box-sizing: border-box;top: 0;bottom: 0;left: 50%;z-index: 0;}#sk-container-id-3 div.sk-serial {display: flex;flex-direction: column;align-items: center;background-color: white;padding-right: 0.2em;padding-left: 0.2em;position: relative;}#sk-container-id-3 div.sk-item {position: relative;z-index: 1;}#sk-container-id-3 div.sk-parallel {display: flex;align-items: stretch;justify-content: center;background-color: white;position: relative;}#sk-container-id-3 div.sk-item::before, #sk-container-id-3 div.sk-parallel-item::before {content: \"\";position: absolute;border-left: 1px solid gray;box-sizing: border-box;top: 0;bottom: 0;left: 50%;z-index: -1;}#sk-container-id-3 div.sk-parallel-item {display: flex;flex-direction: column;z-index: 1;position: relative;background-color: white;}#sk-container-id-3 div.sk-parallel-item:first-child::after {align-self: flex-end;width: 50%;}#sk-container-id-3 div.sk-parallel-item:last-child::after {align-self: flex-start;width: 50%;}#sk-container-id-3 div.sk-parallel-item:only-child::after {width: 0;}#sk-container-id-3 div.sk-dashed-wrapped {border: 1px dashed gray;margin: 0 0.4em 0.5em 0.4em;box-sizing: border-box;padding-bottom: 0.4em;background-color: white;}#sk-container-id-3 div.sk-label label {font-family: monospace;font-weight: bold;display: inline-block;line-height: 1.2em;}#sk-container-id-3 div.sk-label-container {text-align: center;}#sk-container-id-3 div.sk-container {/* jupyter's `normalize.less` sets `[hidden] { display: none; }` but bootstrap.min.css set `[hidden] { display: none !important; }` so we also need the `!important` here to be able to override the default hidden behavior on the sphinx rendered scikit-learn.org. See: https://github.com/scikit-learn/scikit-learn/issues/21755 */display: inline-block !important;position: relative;}#sk-container-id-3 div.sk-text-repr-fallback {display: none;}</style><div id=\"sk-container-id-3\" class=\"sk-top-container\"><div class=\"sk-text-repr-fallback\"><pre>GridSearchCV(cv=StratifiedKFold(n_splits=4, random_state=None, shuffle=False),\n",
       "             estimator=LogisticRegression(class_weight=&#x27;balanced&#x27;,\n",
       "                                          solver=&#x27;liblinear&#x27;),\n",
       "             n_jobs=-1,\n",
       "             param_grid=[{&#x27;C&#x27;: [0.01, 0.1, 1, 10, 100],\n",
       "                          &#x27;penalty&#x27;: [&#x27;l1&#x27;, &#x27;l2&#x27;]}],\n",
       "             scoring=&#x27;recall&#x27;, verbose=1)</pre><b>In a Jupyter environment, please rerun this cell to show the HTML representation or trust the notebook. <br />On GitHub, the HTML representation is unable to render, please try loading this page with nbviewer.org.</b></div><div class=\"sk-container\" hidden><div class=\"sk-item sk-dashed-wrapped\"><div class=\"sk-label-container\"><div class=\"sk-label sk-toggleable\"><input class=\"sk-toggleable__control sk-hidden--visually\" id=\"sk-estimator-id-3\" type=\"checkbox\" ><label for=\"sk-estimator-id-3\" class=\"sk-toggleable__label sk-toggleable__label-arrow\">GridSearchCV</label><div class=\"sk-toggleable__content\"><pre>GridSearchCV(cv=StratifiedKFold(n_splits=4, random_state=None, shuffle=False),\n",
       "             estimator=LogisticRegression(class_weight=&#x27;balanced&#x27;,\n",
       "                                          solver=&#x27;liblinear&#x27;),\n",
       "             n_jobs=-1,\n",
       "             param_grid=[{&#x27;C&#x27;: [0.01, 0.1, 1, 10, 100],\n",
       "                          &#x27;penalty&#x27;: [&#x27;l1&#x27;, &#x27;l2&#x27;]}],\n",
       "             scoring=&#x27;recall&#x27;, verbose=1)</pre></div></div></div><div class=\"sk-parallel\"><div class=\"sk-parallel-item\"><div class=\"sk-item\"><div class=\"sk-label-container\"><div class=\"sk-label sk-toggleable\"><input class=\"sk-toggleable__control sk-hidden--visually\" id=\"sk-estimator-id-4\" type=\"checkbox\" ><label for=\"sk-estimator-id-4\" class=\"sk-toggleable__label sk-toggleable__label-arrow\">estimator: LogisticRegression</label><div class=\"sk-toggleable__content\"><pre>LogisticRegression(class_weight=&#x27;balanced&#x27;, solver=&#x27;liblinear&#x27;)</pre></div></div></div><div class=\"sk-serial\"><div class=\"sk-item\"><div class=\"sk-estimator sk-toggleable\"><input class=\"sk-toggleable__control sk-hidden--visually\" id=\"sk-estimator-id-5\" type=\"checkbox\" ><label for=\"sk-estimator-id-5\" class=\"sk-toggleable__label sk-toggleable__label-arrow\">LogisticRegression</label><div class=\"sk-toggleable__content\"><pre>LogisticRegression(class_weight=&#x27;balanced&#x27;, solver=&#x27;liblinear&#x27;)</pre></div></div></div></div></div></div></div></div></div></div>"
      ],
      "text/plain": [
       "GridSearchCV(cv=StratifiedKFold(n_splits=4, random_state=None, shuffle=False),\n",
       "             estimator=LogisticRegression(class_weight='balanced',\n",
       "                                          solver='liblinear'),\n",
       "             n_jobs=-1,\n",
       "             param_grid=[{'C': [0.01, 0.1, 1, 10, 100],\n",
       "                          'penalty': ['l1', 'l2']}],\n",
       "             scoring='recall', verbose=1)"
      ]
     },
     "execution_count": 46,
     "metadata": {},
     "output_type": "execute_result"
    }
   ],
   "source": [
    "# 13.3 Fit the train set\n",
    "\n",
    "grid_search.fit(X_train_tfidf, y_train)"
   ]
  },
  {
   "cell_type": "markdown",
   "id": "bb10ede6-ba74-4c28-a5ea-8d4053819d04",
   "metadata": {},
   "source": [
    "### 14. What are the best parameters?"
   ]
  },
  {
   "cell_type": "code",
   "execution_count": 47,
   "id": "27fa8e62-d878-4786-8028-d163ef4556ab",
   "metadata": {},
   "outputs": [
    {
     "data": {
      "text/plain": [
       "{'C': 1, 'penalty': 'l2'}"
      ]
     },
     "execution_count": 47,
     "metadata": {},
     "output_type": "execute_result"
    }
   ],
   "source": [
    "# The best parameters are:\n",
    "\n",
    "grid_search.best_params_"
   ]
  },
  {
   "cell_type": "markdown",
   "id": "31edf9a7-afca-4760-8a20-2e6b6efcc446",
   "metadata": {},
   "source": [
    "### 15. Predict and evaluate using the best estimator.\n",
    "1. Use the best estimator from the grid search to make predictions on the test set.\n",
    "2. What is the recall on the test set for the toxic comments?\n",
    "3. What is the f_1 score?"
   ]
  },
  {
   "cell_type": "code",
   "execution_count": 48,
   "id": "f628ba43-3abd-4f37-a3fc-b2f836247fa9",
   "metadata": {
    "tags": []
   },
   "outputs": [
    {
     "data": {
      "text/html": [
       "<style>#sk-container-id-4 {color: black;background-color: white;}#sk-container-id-4 pre{padding: 0;}#sk-container-id-4 div.sk-toggleable {background-color: white;}#sk-container-id-4 label.sk-toggleable__label {cursor: pointer;display: block;width: 100%;margin-bottom: 0;padding: 0.3em;box-sizing: border-box;text-align: center;}#sk-container-id-4 label.sk-toggleable__label-arrow:before {content: \"▸\";float: left;margin-right: 0.25em;color: #696969;}#sk-container-id-4 label.sk-toggleable__label-arrow:hover:before {color: black;}#sk-container-id-4 div.sk-estimator:hover label.sk-toggleable__label-arrow:before {color: black;}#sk-container-id-4 div.sk-toggleable__content {max-height: 0;max-width: 0;overflow: hidden;text-align: left;background-color: #f0f8ff;}#sk-container-id-4 div.sk-toggleable__content pre {margin: 0.2em;color: black;border-radius: 0.25em;background-color: #f0f8ff;}#sk-container-id-4 input.sk-toggleable__control:checked~div.sk-toggleable__content {max-height: 200px;max-width: 100%;overflow: auto;}#sk-container-id-4 input.sk-toggleable__control:checked~label.sk-toggleable__label-arrow:before {content: \"▾\";}#sk-container-id-4 div.sk-estimator input.sk-toggleable__control:checked~label.sk-toggleable__label {background-color: #d4ebff;}#sk-container-id-4 div.sk-label input.sk-toggleable__control:checked~label.sk-toggleable__label {background-color: #d4ebff;}#sk-container-id-4 input.sk-hidden--visually {border: 0;clip: rect(1px 1px 1px 1px);clip: rect(1px, 1px, 1px, 1px);height: 1px;margin: -1px;overflow: hidden;padding: 0;position: absolute;width: 1px;}#sk-container-id-4 div.sk-estimator {font-family: monospace;background-color: #f0f8ff;border: 1px dotted black;border-radius: 0.25em;box-sizing: border-box;margin-bottom: 0.5em;}#sk-container-id-4 div.sk-estimator:hover {background-color: #d4ebff;}#sk-container-id-4 div.sk-parallel-item::after {content: \"\";width: 100%;border-bottom: 1px solid gray;flex-grow: 1;}#sk-container-id-4 div.sk-label:hover label.sk-toggleable__label {background-color: #d4ebff;}#sk-container-id-4 div.sk-serial::before {content: \"\";position: absolute;border-left: 1px solid gray;box-sizing: border-box;top: 0;bottom: 0;left: 50%;z-index: 0;}#sk-container-id-4 div.sk-serial {display: flex;flex-direction: column;align-items: center;background-color: white;padding-right: 0.2em;padding-left: 0.2em;position: relative;}#sk-container-id-4 div.sk-item {position: relative;z-index: 1;}#sk-container-id-4 div.sk-parallel {display: flex;align-items: stretch;justify-content: center;background-color: white;position: relative;}#sk-container-id-4 div.sk-item::before, #sk-container-id-4 div.sk-parallel-item::before {content: \"\";position: absolute;border-left: 1px solid gray;box-sizing: border-box;top: 0;bottom: 0;left: 50%;z-index: -1;}#sk-container-id-4 div.sk-parallel-item {display: flex;flex-direction: column;z-index: 1;position: relative;background-color: white;}#sk-container-id-4 div.sk-parallel-item:first-child::after {align-self: flex-end;width: 50%;}#sk-container-id-4 div.sk-parallel-item:last-child::after {align-self: flex-start;width: 50%;}#sk-container-id-4 div.sk-parallel-item:only-child::after {width: 0;}#sk-container-id-4 div.sk-dashed-wrapped {border: 1px dashed gray;margin: 0 0.4em 0.5em 0.4em;box-sizing: border-box;padding-bottom: 0.4em;background-color: white;}#sk-container-id-4 div.sk-label label {font-family: monospace;font-weight: bold;display: inline-block;line-height: 1.2em;}#sk-container-id-4 div.sk-label-container {text-align: center;}#sk-container-id-4 div.sk-container {/* jupyter's `normalize.less` sets `[hidden] { display: none; }` but bootstrap.min.css set `[hidden] { display: none !important; }` so we also need the `!important` here to be able to override the default hidden behavior on the sphinx rendered scikit-learn.org. See: https://github.com/scikit-learn/scikit-learn/issues/21755 */display: inline-block !important;position: relative;}#sk-container-id-4 div.sk-text-repr-fallback {display: none;}</style><div id=\"sk-container-id-4\" class=\"sk-top-container\"><div class=\"sk-text-repr-fallback\"><pre>LogisticRegression(C=1, class_weight=&#x27;balanced&#x27;, solver=&#x27;liblinear&#x27;)</pre><b>In a Jupyter environment, please rerun this cell to show the HTML representation or trust the notebook. <br />On GitHub, the HTML representation is unable to render, please try loading this page with nbviewer.org.</b></div><div class=\"sk-container\" hidden><div class=\"sk-item\"><div class=\"sk-estimator sk-toggleable\"><input class=\"sk-toggleable__control sk-hidden--visually\" id=\"sk-estimator-id-6\" type=\"checkbox\" checked><label for=\"sk-estimator-id-6\" class=\"sk-toggleable__label sk-toggleable__label-arrow\">LogisticRegression</label><div class=\"sk-toggleable__content\"><pre>LogisticRegression(C=1, class_weight=&#x27;balanced&#x27;, solver=&#x27;liblinear&#x27;)</pre></div></div></div></div></div>"
      ],
      "text/plain": [
       "LogisticRegression(C=1, class_weight='balanced', solver='liblinear')"
      ]
     },
     "execution_count": 48,
     "metadata": {},
     "output_type": "execute_result"
    }
   ],
   "source": [
    "# The best estimator\n",
    "\n",
    "grid_search.best_estimator_"
   ]
  },
  {
   "cell_type": "code",
   "execution_count": 49,
   "id": "bb427cde-605e-455c-af30-aa9a851ded06",
   "metadata": {},
   "outputs": [],
   "source": [
    "# 15.1 Use the best estimator from the grid search to make predictions on the test set\n",
    "\n",
    "y_test_pred_gs = grid_search.best_estimator_.predict(X_test_tfidf)"
   ]
  },
  {
   "cell_type": "code",
   "execution_count": 50,
   "id": "bf5e0e73-e522-4acd-b9ee-b5208b7938a3",
   "metadata": {
    "tags": []
   },
   "outputs": [
    {
     "name": "stdout",
     "output_type": "stream",
     "text": [
      "\u001b[1mRecall from the Grid Search result:\u001b[0m\n",
      "\u001b[1mThe recall for the toxic comments is:\u001b[0m 0.7763\n",
      "\u001b[1m\n",
      "Recall score from sklearn.metrics:\u001b[0m\n",
      "\u001b[1mRecall score:\u001b[0m 0.7763\n"
     ]
    }
   ],
   "source": [
    "# 15.2 What is the recall on the test set for the toxic comments?\n",
    "\n",
    "print(sbold + \"Recall from the Grid Search result:\" + ebold) \n",
    "print(sbold + \"The recall for the toxic comments is:\" + ebold, \"%.4f\" % grid_search.score(X_test_tfidf, y_test))\n",
    "\n",
    "# Get the recall score \n",
    "r_score = recall_score(y_test, y_test_pred_gs)\n",
    "\n",
    "print(sbold + \"\\nRecall score from sklearn.metrics:\" + ebold)\n",
    "print(sbold + \"Recall score:\" + ebold, \"%.4f\" % r_score)\n"
   ]
  },
  {
   "cell_type": "code",
   "execution_count": 51,
   "id": "94735bea-bcc2-484a-bfaf-87dfc911a202",
   "metadata": {
    "tags": []
   },
   "outputs": [
    {
     "name": "stdout",
     "output_type": "stream",
     "text": [
      "\u001b[1mF-1 score:   \u001b[0m 0.5866\n"
     ]
    }
   ],
   "source": [
    "# 15.3 What is the f_1 score?\n",
    "\n",
    "f_1_score = f1_score(y_test, y_test_pred_gs)\n",
    "print(sbold + \"F-1 score:   \" + ebold, \"%.4f\" % f_1_score)\n"
   ]
  },
  {
   "cell_type": "code",
   "execution_count": 52,
   "id": "72469ffc-1762-48e2-9998-76115b8e63d9",
   "metadata": {
    "tags": []
   },
   "outputs": [
    {
     "name": "stdout",
     "output_type": "stream",
     "text": [
      "              precision    recall  f1-score   support\n",
      "\n",
      "           0       0.98      0.93      0.96      5931\n",
      "           1       0.47      0.78      0.59       456\n",
      "\n",
      "    accuracy                           0.92      6387\n",
      "   macro avg       0.73      0.85      0.77      6387\n",
      "weighted avg       0.95      0.92      0.93      6387\n",
      "\n"
     ]
    }
   ],
   "source": [
    "# Showing the recall and f-1 scores as classification report\n",
    "\n",
    "print(classification_report(y_test, y_test_pred_gs))\n"
   ]
  },
  {
   "cell_type": "markdown",
   "id": "955e58fb-ebe0-4ce1-83ff-f52360ccf493",
   "metadata": {},
   "source": [
    "<b><center>End of Project</center></b>"
   ]
  }
 ],
 "metadata": {
  "kernelspec": {
   "display_name": "Python 3 (ipykernel)",
   "language": "python",
   "name": "python3"
  },
  "language_info": {
   "codemirror_mode": {
    "name": "ipython",
    "version": 3
   },
   "file_extension": ".py",
   "mimetype": "text/x-python",
   "name": "python",
   "nbconvert_exporter": "python",
   "pygments_lexer": "ipython3",
   "version": "3.10.8"
  }
 },
 "nbformat": 4,
 "nbformat_minor": 5
}
